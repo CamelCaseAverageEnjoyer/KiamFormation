{
 "cells": [
  {
   "cell_type": "markdown",
   "id": "2fe851d9",
   "metadata": {},
   "source": [
    "![](img/40_analysis.png)"
   ]
  },
  {
   "cell_type": "markdown",
   "id": "dae3eaf5",
   "metadata": {},
   "source": [
    "##### Проверка <u>элементарных функций</u>"
   ]
  },
  {
   "cell_type": "markdown",
   "id": "4ccb8c51-f138-41d1-9436-f2ce9a9c1ac5",
   "metadata": {},
   "source": [
    "*Математические преобразования*"
   ]
  },
  {
   "cell_type": "code",
   "execution_count": 2,
   "id": "d331fafd",
   "metadata": {},
   "outputs": [
    {
     "name": "stdout",
     "output_type": "stream",
     "text": [
      "\u001b[0m\u001b[1mScrew-symmetrix matrix [a]x:\u001b[0m\u001b[0m\n"
     ]
    },
    {
     "data": {
      "text/latex": [
       "$\\displaystyle \\left[\\begin{matrix}0 & - a_{z} & a_{y}\\\\a_{z} & 0 & - a_{x}\\\\- a_{y} & a_{x} & 0\\end{matrix}\\right]$"
      ],
      "text/plain": [
       "Matrix([\n",
       "[   0, -a_z,  a_y],\n",
       "[ a_z,    0, -a_x],\n",
       "[-a_y,  a_x,    0]])"
      ]
     },
     "metadata": {},
     "output_type": "display_data"
    }
   ],
   "source": [
    "from __init__ import *\n",
    "a = kf.get_vars(\"a\", 3, numb=False)\n",
    "kf.my_print(f\"Screw-symmetrix matrix [a]x:\", bold=True)\n",
    "display(kf.get_antisymmetric_matrix(a))"
   ]
  },
  {
   "cell_type": "markdown",
   "id": "89d69f3a-48a0-4200-8611-6526d2c73280",
   "metadata": {},
   "source": [
    "*Кватернионы*"
   ]
  },
  {
   "cell_type": "code",
   "execution_count": 15,
   "id": "c56d78d8-25ab-4dde-a2c9-36b988913a2a",
   "metadata": {},
   "outputs": [
    {
     "name": "stdout",
     "output_type": "stream",
     "text": [
      "\u001b[0m\u001b[1mСкалярная часть (вручную):\u001b[0m\u001b[0m\n"
     ]
    },
    {
     "data": {
      "text/latex": [
       "$\\displaystyle q^{1}_{0} q^{2}_{0} - q^{1}_{x} q^{2}_{x} - q^{1}_{y} q^{2}_{y} - q^{1}_{z} q^{2}_{z}$"
      ],
      "text/plain": [
       "q^1_0*q^2_0 - q^1_x*q^2_x - q^1_y*q^2_y - q^1_z*q^2_z"
      ]
     },
     "metadata": {},
     "output_type": "display_data"
    },
    {
     "name": "stdout",
     "output_type": "stream",
     "text": [
      "\u001b[0m\u001b[1mВекторная часть (вручную):\u001b[0m\u001b[0m\n"
     ]
    },
    {
     "data": {
      "text/latex": [
       "$\\displaystyle \\left[\\begin{matrix}q^{1}_{0} q^{2}_{x} + q^{1}_{x} q^{2}_{0} + q^{1}_{y} q^{2}_{z} - q^{1}_{z} q^{2}_{y}\\\\q^{1}_{0} q^{2}_{y} - q^{1}_{x} q^{2}_{z} + q^{1}_{y} q^{2}_{0} + q^{1}_{z} q^{2}_{x}\\\\q^{1}_{0} q^{2}_{z} + q^{1}_{x} q^{2}_{y} - q^{1}_{y} q^{2}_{x} + q^{1}_{z} q^{2}_{0}\\end{matrix}\\right]$"
      ],
      "text/plain": [
       "Matrix([\n",
       "[q^1_0*q^2_x + q^1_x*q^2_0 + q^1_y*q^2_z - q^1_z*q^2_y],\n",
       "[q^1_0*q^2_y - q^1_x*q^2_z + q^1_y*q^2_0 + q^1_z*q^2_x],\n",
       "[q^1_0*q^2_z + q^1_x*q^2_y - q^1_y*q^2_x + q^1_z*q^2_0]])"
      ]
     },
     "metadata": {},
     "output_type": "display_data"
    },
    {
     "name": "stdout",
     "output_type": "stream",
     "text": [
      "\u001b[0m\u001b[1mУмножение кватернионов:\u001b[0m\u001b[0m\n"
     ]
    },
    {
     "data": {
      "text/latex": [
       "$\\displaystyle \\left[\\begin{matrix}q^{1}_{0} q^{2}_{0} - q^{1}_{x} q^{2}_{x} - q^{1}_{y} q^{2}_{y} - q^{1}_{z} q^{2}_{z}\\\\q^{1}_{0} q^{2}_{x} + q^{1}_{x} q^{2}_{0} + q^{1}_{y} q^{2}_{z} - q^{1}_{z} q^{2}_{y}\\\\q^{1}_{0} q^{2}_{y} - q^{1}_{x} q^{2}_{z} + q^{1}_{y} q^{2}_{0} + q^{1}_{z} q^{2}_{x}\\\\q^{1}_{0} q^{2}_{z} + q^{1}_{x} q^{2}_{y} - q^{1}_{y} q^{2}_{x} + q^{1}_{z} q^{2}_{0}\\end{matrix}\\right]$"
      ],
      "text/plain": [
       "Matrix([\n",
       "[q^1_0*q^2_0 - q^1_x*q^2_x - q^1_y*q^2_y - q^1_z*q^2_z],\n",
       "[q^1_0*q^2_x + q^1_x*q^2_0 + q^1_y*q^2_z - q^1_z*q^2_y],\n",
       "[q^1_0*q^2_y - q^1_x*q^2_z + q^1_y*q^2_0 + q^1_z*q^2_x],\n",
       "[q^1_0*q^2_z + q^1_x*q^2_y - q^1_y*q^2_x + q^1_z*q^2_0]])"
      ]
     },
     "metadata": {},
     "output_type": "display_data"
    },
    {
     "name": "stdout",
     "output_type": "stream",
     "text": [
      "\u001b[0m\u001b[1mОдно равно другому: True, True\u001b[0m\u001b[0m\n"
     ]
    }
   ],
   "source": [
    "from __init__ import *\n",
    "q1, q2 = kf.get_vars(\"q^1\", 4, numb=False), kf.get_vars(\"q^2\", 4, numb=False)\n",
    "q1v, q2v = Matrix(q1[1:4]), Matrix(q2[1:4])\n",
    "\n",
    "kf.my_print(f\"Скалярная часть (вручную):\", bold=True)\n",
    "q12_scalar = q1[0]*q2[0] - q1v.dot(q2v)\n",
    "display(q12_scalar)\n",
    "kf.my_print(f\"Векторная часть (вручную):\", bold=True)\n",
    "q12_vec = q1v*q2[0] + q2v*q1[0] + q1v.cross(q2v)\n",
    "display(q12_vec)\n",
    "kf.my_print(f\"Умножение кватернионов:\", bold=True)\n",
    "q12 = kf.q_dot(q1, q2)\n",
    "display(q12)\n",
    "kf.my_print(f\"Одно равно другому: {q12_scalar == q12[0]}, {q12_vec == Matrix(q12[1:4])}\", bold=True)"
   ]
  },
  {
   "cell_type": "markdown",
   "id": "684c9255-0100-4067-8f45-612b7936fb3d",
   "metadata": {},
   "source": [
    "Поворот на $90^\\circ$ вокруг оси $Oz$: \n",
    "$$\\lambda = [\\cos\\frac{\\varphi}{2}, 0, 0, \\sin\\frac{\\varphi}{2}]$$\n",
    "$$x\\to y, \\hskip20px y \\to -x$$"
   ]
  },
  {
   "cell_type": "code",
   "execution_count": 10,
   "id": "397316bf-7a95-4032-9766-1a3df108414a",
   "metadata": {},
   "outputs": [
    {
     "name": "stdout",
     "output_type": "stream",
     "text": [
      "\u001b[0m\u001b[1mКватернион:\u001b[0m\u001b[0m\n",
      "quaternion(0.707106781186547, 0, 0, 0.707106781186547)\n",
      "\u001b[0m\u001b[1mМатрица поворота (соответствующая):\u001b[0m\u001b[0m\n",
      "[[ 0 -1  0]\n",
      " [ 1  0  0]\n",
      " [ 0  0  1]]\n",
      "\u001b[0m\u001b[1mПовороты векторов:\u001b[0m\u001b[0m\n",
      "[1 0 0] -> [0 1 0]\n",
      "[0 1 0] -> [-1  0  0]\n"
     ]
    }
   ],
   "source": [
    "q = np.quaternion(1, 0, 0, 1).normalized()\n",
    "kf.my_print(f\"Кватернион:\", bold=True)\n",
    "print(q)\n",
    "\n",
    "A = kf.quart2dcm(q1)\n",
    "A = np.round(A).astype(np.int64)\n",
    "kf.my_print(f\"Матрица поворота (соответствующая):\", bold=True)\n",
    "print(A)\n",
    "\n",
    "kf.my_print(f\"Повороты векторов:\", bold=True)\n",
    "for a in [np.array([1, 0, 0]), \n",
    "          np.array([0, 1, 0])]:\n",
    "    print(f\"{a} -> {A @ a}\")"
   ]
  },
  {
   "cell_type": "markdown",
   "id": "08e83535-750b-4857-a426-e579986dcd9e",
   "metadata": {},
   "source": [
    "*Угол поворота матрицы* $$\\cos\\alpha = \\frac{1}{2} [ tr(S) - 1]$$ "
   ]
  },
  {
   "cell_type": "code",
   "execution_count": 4,
   "id": "addb6986-5d14-4ddf-8e89-6b3d42e8ac4e",
   "metadata": {},
   "outputs": [
    {
     "name": "stdout",
     "output_type": "stream",
     "text": [
      "\u001b[0m\u001b[1mСравнение формулы и расчёта по модулю:\u001b[0m\u001b[0m\n",
      "Косинус по формуле: -0.32708460215879775\n",
      "Косинус из модуля: -0.32708460215879787\n",
      "\u001b[0m\u001b[1mПри кватернионе\u001b[0m\u001b[0m\n"
     ]
    },
    {
     "data": {
      "text/latex": [
       "$\\displaystyle \\left[\\begin{matrix}\\sqrt{- q_{x}^{2} - q_{y}^{2} - q_{z}^{2} + 1} & q_{x} & q_{y} & q_{z}\\end{matrix}\\right]$"
      ],
      "text/plain": [
       "Matrix([[sqrt(-q_x**2 - q_y**2 - q_z**2 + 1), q_x, q_y, q_z]])"
      ]
     },
     "metadata": {},
     "output_type": "display_data"
    },
    {
     "name": "stdout",
     "output_type": "stream",
     "text": [
      "косинус:\n"
     ]
    },
    {
     "data": {
      "text/latex": [
       "$\\displaystyle - 2 q_{x}^{2} - 2 q_{y}^{2} - 2 q_{z}^{2} + 1$"
      ],
      "text/plain": [
       "-2*q_x**2 - 2*q_y**2 - 2*q_z**2 + 1"
      ]
     },
     "metadata": {},
     "output_type": "display_data"
    },
    {
     "name": "stdout",
     "output_type": "stream",
     "text": [
      "\u001b[0m\u001b[1mПри кватернионе\u001b[0m\u001b[0m\n"
     ]
    },
    {
     "data": {
      "text/latex": [
       "$\\displaystyle \\left[\\begin{matrix}\\cos{\\left(\\frac{\\varphi}{2} \\right)} & \\frac{r_{x} \\sin{\\left(\\frac{\\varphi}{2} \\right)}}{\\sqrt{r_{x}^{2} + r_{y}^{2} + r_{z}^{2}}} & \\frac{r_{y} \\sin{\\left(\\frac{\\varphi}{2} \\right)}}{\\sqrt{r_{x}^{2} + r_{y}^{2} + r_{z}^{2}}} & \\frac{r_{z} \\sin{\\left(\\frac{\\varphi}{2} \\right)}}{\\sqrt{r_{x}^{2} + r_{y}^{2} + r_{z}^{2}}}\\end{matrix}\\right]$"
      ],
      "text/plain": [
       "Matrix([[cos(varphi/2), r_x*sin(varphi/2)/sqrt(r_x**2 + r_y**2 + r_z**2), r_y*sin(varphi/2)/sqrt(r_x**2 + r_y**2 + r_z**2), r_z*sin(varphi/2)/sqrt(r_x**2 + r_y**2 + r_z**2)]])"
      ]
     },
     "metadata": {},
     "output_type": "display_data"
    },
    {
     "name": "stdout",
     "output_type": "stream",
     "text": [
      "косинус:\n"
     ]
    },
    {
     "data": {
      "text/latex": [
       "$\\displaystyle \\cos{\\left(\\varphi \\right)}$"
      ],
      "text/plain": [
       "cos(varphi)"
      ]
     },
     "metadata": {},
     "output_type": "display_data"
    }
   ],
   "source": [
    "from __init__ import *\n",
    "q = np.quaternion(*np.random.uniform(-1, 1, 4)).normalized()\n",
    "S = quaternion.as_rotation_matrix(q)\n",
    "\n",
    "kf.my_print(f\"Сравнение формулы и расчёта по модулю:\", bold=True)\n",
    "cos_alpha = kf.clip((np.trace(S) - 1) / 2, -1, 1)\n",
    "print(f\"Косинус по формуле: {cos_alpha}\")\n",
    "print(f\"Косинус из модуля: {np.cos(quaternion.np.angle_of_rotor(quaternion.from_rotation_matrix(S)))}\")\n",
    "\n",
    "phi = var('varphi')\n",
    "r = kf.get_vars(name='r', n=3, numb=False)\n",
    "\n",
    "for q in [kf.vec2quat(kf.get_vars(name='q', n=3, numb=False)),\n",
    "          kf.get_q_Rodrigue_Hamilton(phi=phi, r=r, symbol=True)]:\n",
    "    kf.my_print(f\"При кватернионе\", bold=True)\n",
    "    display(q.T)\n",
    "    M = kf.quart2dcm(q)\n",
    "    cos_s = kf.matrix2angle(M)\n",
    "    print(f\"косинус:\")\n",
    "    display(cos_s.simplify())"
   ]
  },
  {
   "cell_type": "code",
   "execution_count": null,
   "id": "97d3959a-48aa-4f80-81b4-f4572bf5823a",
   "metadata": {},
   "outputs": [],
   "source": []
  },
  {
   "cell_type": "markdown",
   "id": "0c6c82fb",
   "metadata": {},
   "source": [
    "##### Проверка <u>фильтра Калмана</u>"
   ]
  },
  {
   "cell_type": "code",
   "execution_count": 3,
   "id": "45a39fa7",
   "metadata": {},
   "outputs": [
    {
     "name": "stdout",
     "output_type": "stream",
     "text": [
      "\u001b[35m\u001b[1mОценка орбитального движения\u001b[0m\u001b[0m\n",
      "\u001b[0m\u001b[1mМатрица линеаризованной динамики Ф:\u001b[0m\u001b[0m\n"
     ]
    },
    {
     "data": {
      "text/latex": [
       "$\\displaystyle \\left[\\begin{matrix}1.0 & 0 & 0 & dt & 0 & 0\\\\0 & 1.0 & 0 & 0 & dt & 0\\\\0 & 0 & 1.0 & 0 & 0 & dt\\\\0 & 0 & 0 & 1.0 & 0 & - 2 dt w_{0}\\\\0 & - dt w_{0}^{2} & 0 & 0 & 1.0 & 0\\\\0 & 0 & 3 dt w_{0}^{2} & 2 dt w_{0} & 0 & 1.0\\end{matrix}\\right]$"
      ],
      "text/plain": [
       "Matrix([\n",
       "[1.0,          0,           0,       dt,   0,         0],\n",
       "[  0,        1.0,           0,        0,  dt,         0],\n",
       "[  0,          0,         1.0,        0,   0,        dt],\n",
       "[  0,          0,           0,      1.0,   0, -2*dt*w_0],\n",
       "[  0, -dt*w_0**2,           0,        0, 1.0,         0],\n",
       "[  0,          0, 3*dt*w_0**2, 2*dt*w_0,   0,       1.0]])"
      ]
     },
     "metadata": {},
     "output_type": "display_data"
    }
   ],
   "source": [
    "from __init__ import *\n",
    "o = kf.init(symbolic=True)\n",
    "t, ω, μ, ρ = o.p.t, o.W_ORB, o.MU, o.RHO \n",
    "\n",
    "o.f.r_orf, o.f.v_orf, o.f.q, o.f.w_brf = get_state_vector(func=kf.get_func, obj='d', n=1)\n",
    "o.c.r_orf, o.c.v_orf, o.c.q, o.c.w_brf = get_state_vector(func=kf.get_func, obj='c', n=1)\n",
    "\n",
    "for i in range(1):  # ПОТОМ ПОСТАВИТЬ 2, ПРОВЕРИТЬ ОЦЕНКУ УГЛОВОГО ДВИЖЕНИЯ\n",
    "    kf.my_print(f\"Оценка орбитального{['', ' и углового'][i]} движения\", color='m', bold=True)\n",
    "\n",
    "    kf.my_print(f\"Матрица линеаризованной динамики Ф:\", bold=True)\n",
    "    display(o.p.k.get_Phi(w=o.f.w_brf, w0=o.W_ORB))\n",
    "\n",
    "    # Поправки на угловое движение\n",
    "    o.NAVIGATION_ANGLES = True"
   ]
  }
 ],
 "metadata": {
  "kernelspec": {
   "display_name": "Python 3 (ipykernel)",
   "language": "python",
   "name": "python3"
  },
  "language_info": {
   "codemirror_mode": {
    "name": "ipython",
    "version": 3
   },
   "file_extension": ".py",
   "mimetype": "text/x-python",
   "name": "python",
   "nbconvert_exporter": "python",
   "pygments_lexer": "ipython3",
   "version": "3.10.12"
  }
 },
 "nbformat": 4,
 "nbformat_minor": 5
}
