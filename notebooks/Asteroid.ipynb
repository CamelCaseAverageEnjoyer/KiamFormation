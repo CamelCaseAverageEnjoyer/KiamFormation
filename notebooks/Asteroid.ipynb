{
 "cells": [
  {
   "cell_type": "markdown",
   "id": "4f3ccda3-527a-4d19-9df0-48802ac35421",
   "metadata": {},
   "source": [
    "![](img/49_asteroid.png)"
   ]
  },
  {
   "cell_type": "markdown",
   "id": "8ce3e41e-4d90-4c44-8514-d34684a56d52",
   "metadata": {},
   "source": [
    "##### <u>Астероиды</u> наибольшего интереса"
   ]
  },
  {
   "cell_type": "code",
   "execution_count": null,
   "id": "260823f1-9f1f-4ecd-a5ea-fe8e59a5c415",
   "metadata": {},
   "outputs": [],
   "source": []
  },
  {
   "cell_type": "markdown",
   "id": "0e4b398b-9dee-439f-b1a8-ba84bc5d119a",
   "metadata": {},
   "source": [
    "##### Модели <u>гравитационных полей</u>"
   ]
  },
  {
   "cell_type": "code",
   "execution_count": null,
   "id": "8e968c82-92f4-4d87-b865-1eed25ab5ead",
   "metadata": {},
   "outputs": [],
   "source": [
    "from __init__ import *"
   ]
  }
 ],
 "metadata": {
  "kernelspec": {
   "display_name": "Python 3 (ipykernel)",
   "language": "python",
   "name": "python3"
  },
  "language_info": {
   "codemirror_mode": {
    "name": "ipython",
    "version": 3
   },
   "file_extension": ".py",
   "mimetype": "text/x-python",
   "name": "python",
   "nbconvert_exporter": "python",
   "pygments_lexer": "ipython3",
   "version": "3.10.12"
  }
 },
 "nbformat": 4,
 "nbformat_minor": 5
}
