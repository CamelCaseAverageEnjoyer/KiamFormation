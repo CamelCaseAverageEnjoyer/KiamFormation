{
 "cells": [
  {
   "cell_type": "markdown",
   "id": "95d3e84b",
   "metadata": {},
   "source": [
    "![](img/28_observability.png)"
   ]
  },
  {
   "cell_type": "markdown",
   "id": "c7f85558-ca10-4aa5-8afc-a6ee68c6b778",
   "metadata": {},
   "source": [
    "###### <u>Описание критериев наблюдаемости</u>"
   ]
  },
  {
   "cell_type": "markdown",
   "id": "646e55e3",
   "metadata": {},
   "source": [
    "- **(f-038)** Shauying R.K. *Observability of Nonlinear Systems* $$\\varepsilon = \\min_i\\frac{\\Delta_i}{\\Delta_{i-1}}$$\n",
    "    - Важно просто наличие $\\varepsilon > 0$ $\\to$ достаточное условие наблюдаемости в точке\n",
    "- **(f-051)** Andrew J. Whalen *Observability and Controllability of Nonlinear Networks The Role of Symmetry* $$\\delta(x) = \\frac{|\\sigma_{min}[O^T O]|}{|\\sigma_{max}[O^T O]|}.$$\n",
    "    - Я выбрал критерий $\\delta(x) > 10^{-10}$ (с бухты барахты)"
   ]
  },
  {
   "cell_type": "markdown",
   "id": "ab4d7839",
   "metadata": {},
   "source": [
    "###### <u>Инициализация</u>"
   ]
  },
  {
   "cell_type": "code",
   "execution_count": 1,
   "id": "a992fffc",
   "metadata": {},
   "outputs": [],
   "source": [
    "from __init__ import *\n",
    "o1 = kf.init()\n",
    "o = kf.init(symbolic=True)\n",
    "t, ω, μ, ρ = o.p.t, o.W_ORB, o.MU, o.RHO "
   ]
  },
  {
   "cell_type": "markdown",
   "id": "9ebe7a0f",
   "metadata": {},
   "source": [
    "###### <u>Алгоритм</u> (новое)"
   ]
  },
  {
   "cell_type": "code",
   "execution_count": 2,
   "id": "6fe8ec79",
   "metadata": {},
   "outputs": [],
   "source": [
    "def my_diff(expr, power: int = 1, n_c=1, n_d=1):\n",
    "    \"\"\"Функция дифференцирует выражение, подставля\n",
    "    :param expr: Выражение, от которого надо взять производную по времени t\n",
    "    :param power: Степень производной\n",
    "    :param n_c: Количество материнских КА\n",
    "    :param n_d: Количество дочерних КА\n",
    "    \"\"\"    \n",
    "    global r_d, v_d, q_d, ω_d, r_c, v_c, q_c, ω_c\n",
    "    global dr_d, dv_d, dq_d, dω_d, dr_c, dv_c, dq_c, dω_c\n",
    "    if power == 0:\n",
    "        return expr\n",
    "    subses, anw = [], (expr if power == 1 else my_diff(expr, power - 1))\n",
    "    for j in range(3):\n",
    "        for i in range(n_d):\n",
    "            subses.extend([(Derivative(r_d[i][j], t), dr_d[i][j]), (Derivative(v_d[i][j], t), dv_d[i][j]), \n",
    "                           (Derivative(q_d[i][j+1], t), dq_d[i][j+1]), (Derivative(ω_d[i][j], t), dω_d[i][j])])\n",
    "        for i in range(n_c):\n",
    "            subses.extend([(Derivative(r_c[i][j], t), dr_c[i][j]), (Derivative(v_c[i][j], t), dv_c[i][j]),\n",
    "                           (Derivative(q_c[i][j+1], t), dq_c[i][j+1]), (Derivative(ω_c[i][j], t), dω_c[i][j])])\n",
    "    anw = anw.diff(t).subs(subses)\n",
    "    # anw.simplify()\n",
    "    return anw\n",
    "\n",
    "def SubRandParams(o, J, n_d: int, n_c: int, n_x: int, n_y: int):\n",
    "    \"\"\"Берёт матрицу J размером n_x на n_y, подставляет случайные значения\"\"\"\n",
    "    global r_d, v_d, q_d, ω_d, r_c, v_c, q_c, ω_c\n",
    "    # Генерация случайных параметров движения\n",
    "    s_r = lambda: o.spread(param='r', name=\"FemtoSat\")[0]\n",
    "    s_v = lambda: o.spread(param='v', name=\"FemtoSat\")[0]\n",
    "    s_w = lambda: o.spread(param='w', name=\"FemtoSat\")[0]\n",
    "    rand_params = [(ω, o1.W_ORB), (pi, np.pi), (ρ, o1.RHO), (μ, o1.MU), \n",
    "                   (o.V_ORB, o1.V_ORB),  (o.ORBIT_RADIUS, o1.ORBIT_RADIUS), \n",
    "                   (o.f.c_resist, o1.f.c_resist), (o.f.mass, o1.f.mass), \n",
    "                   (o.c.c_resist, o1.c.c_resist), (o.c.mass, o1.c.mass)] \n",
    "    for i in range(3):\n",
    "        rand_params.append((o.f.size[i], o1.f.size[i]))\n",
    "        rand_params.append((o.c.size[i], o1.c.size[i]))\n",
    "        for j in range(3):\n",
    "            rand_params.append((o.f.J[i, j], o1.f.J[i, j]))\n",
    "            rand_params.append((o.c.J[i, j], o1.c.J[i, j]))\n",
    "    for i in range(n_d):\n",
    "        q = np.random.uniform(-1, 1, 4)\n",
    "        for j in range(3):\n",
    "            if i==0:\n",
    "                _r = [100, 50, 0][j]\n",
    "                _v = [0, 0.1, 0.1][j]\n",
    "                _w = [1e-4, 1e-4, 1e-4][j]\n",
    "                _q = q[j+1] / np.linalg.norm(q)\n",
    "            else:\n",
    "                _r, _v, _w, _q = [s_r(), s_v(), s_w(), q[j+1] / np.linalg.norm(q)]\n",
    "            rand_params.extend([(r_d[i][j], _r), (v_d[i][j], _v), (ω_d[i][j], _w), (q_d[i][j+1], _q)])\n",
    "    for i in range(n_c):\n",
    "        q = np.random.uniform(-1, 1, 4)\n",
    "        for j in range(3):\n",
    "            if i==0:\n",
    "                _r = [0, 100, 100][j]\n",
    "                _v = [0, 0.2, -0.1][j]\n",
    "                # _w = [1e-5, 1e-5, 1e-5][j]\n",
    "                _w = 0\n",
    "                _q = q[j+1] / np.linalg.norm(q)\n",
    "                # _r, _v, _w, _q = [s_r(), s_v(), s_w(), q[j+1] / np.linalg.norm(q)]\n",
    "            else:\n",
    "                _r, _v, _w, _q = [s_r(), s_v(), s_w(), q[j+1] / np.linalg.norm(q)]\n",
    "            rand_params.extend([(r_c[i][j], _r), (v_c[i][j], _v), (ω_c[i][j], _w), (q_c[i][j+1], _q)])\n",
    "\n",
    "    # Якобиан матрицы наблюдаемости: J[измерение (H), состояние (X)] \n",
    "    J_numb = np.array([[float(J[i, j].subs(rand_params).subs(t,0)) for j in range(n_x)] for i in range(n_y)])\n",
    "    return J_numb\n",
    "\n",
    "def ShauyingObservabilitySufficientCondition(o, n_d: int, n_c: int, X: list, Y: list, hand_written_deriv: int = None, is_only_xz: bool = False):\n",
    "    \"\"\"Проверка достаточного условия наблюдаемости системы. Проверка равномерного отношения миноров матрицы наблюдаемости.\n",
    "    :param n_d: Количество чипсатов\n",
    "    :param X: Список неизвестных параметров, которые необходимо найти\n",
    "    :param Y: Список известных параметров (измерений системы в t₀=0)\n",
    "    :param my_diff: Функция взятия производной по времени\"\"\"\n",
    "    global r_d, v_d, q_d, ω_d, r_c, v_c, q_c, ω_c\n",
    "    def print_and_record(report: str, lcl_txt: str):\n",
    "        print(lcl_txt)\n",
    "        return report + lcl_txt + \"\\n\"\n",
    "    report = kf.my_print(f\"Количество кубсатов: {n_c}\\nКоличество чипсатов: {n_d}\\n\", if_return=True, bold=True)\n",
    "\n",
    "    # Количество одномоментных измерений\n",
    "    l = len(Y)\n",
    "    # Требуемое количество существующих производных функции измерения\n",
    "    k = int(len(X) // len(Y)) if hand_written_deriv is None else hand_written_deriv\n",
    "    txt = f\"\" if hand_written_deriv is None else f\"\\033[1mВнимание! Рассчитывается не отношение миноров, а ранг расширенного Якобиана\\033[0m\\n\"\n",
    "    report = print_and_record(report, txt + f\"Неизвестные: n = {len(X)} (на каждый чипсат по {int(len(X) // n_d)} параметров)\\nИзвестные: l = {l}\\n∃ производные порядка k = {len(X) / len(Y)} (Должна быть целой!)\")\n",
    "\n",
    "    # >>>>>>>> РАССЧЁТ ОТОБРАЖЕНИЯ НАБЛЮДАЕМОСТИ H <<<<<<<< #\n",
    "    if is_only_xz:\n",
    "        f = Matrix([Matrix([*dr_d[i][::2], *dv_d[i][::2]]) for i in range(len(dr_d))])\n",
    "    else:\n",
    "        f = Matrix([Matrix([*dr_d[i], *dv_d[i]]) for i in range(len(dr_d))])\n",
    "        # f = Matrix([Matrix([*dr_d[i], *dq_d[i][1:4], *dv_d[i], *dω_d[i]]) for i in range(len(dr_d))]) if o.NAVIGATION_ANGLES else Matrix([Matrix([*dr_d[i], *dv_d[i]]) for i in range(len(dr_d))])\n",
    "    h, H = Y, []\n",
    "    for kk in range(k):\n",
    "        if kk > 0:\n",
    "            dhdx = Matrix([[h[ll].diff(X[j]) for j in range(len(X))] for ll in range(l)])\n",
    "            dhdx_f = dhdx @ f\n",
    "            # dhdx_f.simplify()\n",
    "            for ll in range(l):\n",
    "                print(f\"__расчёт матрицы H_: k={(kk+1)}/{k}, l={(ll+1)}/{l}\")\n",
    "                h[ll] = my_diff(h[ll], n_c=n_c, n_d=n_d) + dhdx_f[ll]\n",
    "        H.extend(h)\n",
    "    H = Matrix(H)\n",
    "    report = print_and_record(report, f\"Размерность матрицы H: {shape(H)}\")\n",
    "\n",
    "    # Якобиан матрицы наблюдаемости: J[измерение (H), состояние (X)]\n",
    "    J = Matrix([[H[i].diff(X[j]) for j in range(len(X))] for i in range(k * l)])\n",
    "    report = print_and_record(report, f\"Размерность матрицы J: {shape(J)}\")\n",
    "\n",
    "    # Подстановка конкретных значений\n",
    "    J_numb = SubRandParams(o=o, J=J, n_c=n_c, n_d=n_d, n_x=len(X), n_y=k*l)\n",
    "    _, v, _ = np.linalg.svd(J_numb.T @ J_numb)\n",
    "    report = print_and_record(report, f\"v = {v}\")\n",
    "    report = print_and_record(report, f\"σₘₙ/σₘₐₓ = {np.min(v)}/{np.max(v)} = {np.min(v) / np.max(v)} | σ>10⁻⁷: {np.sum(v>1e-7)}/{len(v)} (f-051)\")\n",
    "\n",
    "    # Достаточное условие\n",
    "    tols = [1e-3, 1e-5, 1e-7, 1e-10, 1e-12, 1e-15]\n",
    "    txt = f\"\\nРанг матрицы: {[np.linalg.matrix_rank(J_numb, tol=tol) for tol in tols]} | {tols} (f-055)\\n\"\n",
    "    txt += f\"Детерминант матрицы: {np.linalg.det(J_numb)}\\n\" if J_numb.shape[0] == J_numb.shape[1] else \"\"\n",
    "    if hand_written_deriv is None:\n",
    "        A = np.eye(J_numb.shape[0])\n",
    "    else:\n",
    "        A = np.repeat(np.eye(len(X)), k, axis=0).reshape(len(X), len(X)*k)[:,:len(Y)*k]\n",
    "    report = print_and_record(report, txt + f\"Следующие параметры не должны быть нулевыми:\\n\")\n",
    "    d, Δ, flag, i_min = [], [], True, -1\n",
    "    print(f\"A: {A.shape}, J: {J_numb.shape}\")\n",
    "    for i in range(len(X)):\n",
    "        tmp = kf.principal_minor(A @ J_numb, i)\n",
    "        d += [tmp if i == 0 else tmp / Δ[-1]]\n",
    "        Δ += [tmp]\n",
    "        report = print_and_record(report, f\"Δ_{i} = {d[-1]}\" if i == 0 else f\"Δ_{i} / Δ_{i-1} = {d[-1]}\")\n",
    "    \n",
    "        # Чек наблюдаемости\n",
    "        if flag and abs(d[-1]) < 1e-10:\n",
    "            i_min = i\n",
    "            flag = False\n",
    "        if not flag:\n",
    "            break\n",
    "\n",
    "    # Вывод\n",
    "    if flag:\n",
    "        txt = f\"\\n\\033[1mВыполнено достаточное условие! Система наблюдаема\\033[0m\"\n",
    "    else:\n",
    "        in_txt = f\"Δ_{i_min}\" if i_min == 0 else f\"Δ_{i_min} / Δ_{i_min-1}\"\n",
    "        txt = f\"\\n\\033[1mНе выполнено достаточное условие. Нулевой параметр: {in_txt} = {d[i_min]}\\033[0m\"\n",
    "    # report = print_and_record(report, txt)\n",
    "    # return H, J, J_numb, Δ, report\n",
    "    report = print_and_record(report, txt)\n",
    "    return H, J, J_numb, None, report\n",
    "    \n",
    "\n",
    "def observe_system(n_c, n_d, is_d_qw, gains, is_drag, is_only_xz, hand_written_deriv, disp: bool = True, Hcheck: bool = True):\n",
    "    global r_d, v_d, q_d, ω_d, r_c, v_c, q_c, ω_c, t\n",
    "    global dr_d, dv_d, dq_d, dω_d, dr_c, dv_c, dq_c, dω_c, dydq\n",
    "    \n",
    "    o.GAIN_MODEL_C_N = gains['cN']\n",
    "    o.GAIN_MODEL_F_N = gains['dN']\n",
    "    o.c.gain_mode = o.GAIN_MODEL_C = o.GAIN_MODES[gains['cN']]\n",
    "    o.f.gain_mode = o.GAIN_MODEL_F = o.GAIN_MODES[gains['dN']]\n",
    "    o.init_choice_params()\n",
    "    o.NAVIGATION_ANGLES = is_d_qw\n",
    "    o.DYNAMIC_MODEL['aero drag'] = is_drag\n",
    "    \n",
    "    r_d, v_d, q_d, ω_d = get_state_vector(func=kf.get_func, obj='d', n=n_d)\n",
    "    r_c, v_c, q_c, ω_c = get_state_vector(func=kf.get_func, obj='c', n=n_c)\n",
    "\n",
    "    o.c.n, o.f.n = n_c, n_d\n",
    "    o.f.r_orf, o.f.v_orf, o.f.q, o.f.w_brf = r_d, v_d, q_d, ω_d\n",
    "    o.c.r_orf, o.c.v_orf, o.c.q, o.c.w_brf = r_c, v_c, q_c, ω_c\n",
    "\n",
    "    x = []\n",
    "    for i in range(n_d):\n",
    "        x.extend(r_d[i])\n",
    "        if is_d_qw:\n",
    "            x.extend(q_d[i][1:4])\n",
    "        x.extend(v_d[i])\n",
    "        if is_d_qw:\n",
    "            x.extend(ω_d[i])\n",
    "    x = Matrix(x)\n",
    "    \n",
    "    kf.my_print(f\"Вектор состояния:\", bold=True)\n",
    "    display(x.T)\n",
    "\n",
    "    if is_only_xz:\n",
    "        tmp = []\n",
    "        for i in range(n_d):\n",
    "            tmp.extend([r_d[i][0], r_d[i][2], v_d[i][0], v_d[i][2]])\n",
    "        x = Matrix(tmp)\n",
    "        kf.my_print(f\"Вектор состояния (изменённый):\", bold=True)\n",
    "        display(x.T)\n",
    "\n",
    "    dr_d, dv_d, dq_d, dω_d = ([0 for _ in range(n_d)] for _ in range(4))\n",
    "    dr_c, dv_c, dq_c, dω_c = ([0 for _ in range(n_c)] for _ in range(4))\n",
    "    for i in range(n_d):\n",
    "        dr_d[i], dv_d[i] = kf.translate_rhs(o=o, obj=o.f, i=i, rv=(r_d[i], v_d[i]), w=ω, mu=μ, rho=ρ)\n",
    "        dq_d[i], dω_d[i] = kf.attitude_rhs(o=o, obj=o.f, t=t, i=i, qw=(q_d[i], ω_d[i]))\n",
    "    for i in range(n_c):\n",
    "        dr_c[i], dv_c[i] = kf.translate_rhs(o=o, obj=o.c, i=i, rv=(r_c[i], v_c[i]), w=ω, mu=μ, rho=ρ)\n",
    "        dq_c[i], dω_c[i] = kf.attitude_rhs(o=o, obj=o.c, t=t, i=i, qw=(q_c[i], ω_c[i]))\n",
    "    if disp:\n",
    "        kf.my_print(f\"Динамика: \\n{' '*10}dr = \", bold=True)\n",
    "        display(dr_d[0])\n",
    "        kf.my_print(f\"{' '*10}dv = \", bold=True)\n",
    "        display(dv_d[0])\n",
    "        kf.my_print(f\"{' '*10}dq = \", bold=True)\n",
    "        display(dq_d[0])\n",
    "        # kf.my_print(f\"{' '*10}dω = \", bold=True)\n",
    "    \n",
    "    y = kf.measure_antennas_power(c=o.c, f=o.f, vrs=o, p=o.p, j=int(len(x) // n_d), state=x)\n",
    "    # kf.my_print(f\"Вектор измерени:\", bold=True)\n",
    "    # display(y.T)\n",
    "\n",
    "    # >>>>>>>>>>>>>>>>> Проверка матрицы H <<<<<<<<<<<<<<<<<\n",
    "    if Hcheck:\n",
    "        H_1 = kf.h_matrix(t=t, o=o, f=o.f, c=o.c, r_f=r_d, r_c=r_c, \n",
    "                          q_f=[Matrix(q_d[i][1:4]) for i in range(o.f.n)], \n",
    "                          q_c=[Matrix(q_c[i][1:4]) for i in range(o.c.n)])\n",
    "        H_2 = zeros(*H_1.shape)\n",
    "        for ix, xx in enumerate(x):\n",
    "            for iy, yy in enumerate(y):\n",
    "                H_2[iy, ix] = yy.diff(xx)\n",
    "        kf.my_print(\"Проверка матрицы H:\", bold=True)\n",
    "        #tmp = H_1 - H_2\n",
    "        #tmp.simplify()\n",
    "        #display(tmp)\n",
    "        H_12 = SubRandParams(o=o, J=H_1 - H_2, n_d=o.f.n, n_c=o.c.n, n_x=len(x), n_y=len(y))\n",
    "        print(H_12)\n",
    "    \n",
    "    return ShauyingObservabilitySufficientCondition(o=o, n_c=n_c, n_d=n_d, X=x, Y=y, hand_written_deriv=hand_written_deriv, is_only_xz=is_only_xz)"
   ]
  },
  {
   "cell_type": "markdown",
   "id": "30b2437a",
   "metadata": {},
   "source": [
    "###### <u>Case №1</u>: No?"
   ]
  },
  {
   "cell_type": "code",
   "execution_count": null,
   "id": "778b2d41",
   "metadata": {
    "scrolled": true
   },
   "outputs": [],
   "source": [
    "H, J, Jn, Δ, report = observe_system(n_c=1, n_d=1, \n",
    "                                     is_d_qw=False, \n",
    "                                     is_drag=False, \n",
    "                                     is_only_xz=True, \n",
    "                                     gains={'cN': 0, 'dN': 0},\n",
    "                                     hand_written_deriv=None, disp=False, Hcheck=False)"
   ]
  },
  {
   "cell_type": "code",
   "execution_count": null,
   "id": "175b29f5",
   "metadata": {
    "scrolled": true
   },
   "outputs": [],
   "source": [
    "H, J, Jn, Δ, report = observe_system(n_c=1, n_d=3, \n",
    "                                     is_d_qw=False, \n",
    "                                     is_drag=False, \n",
    "                                     is_only_xz=True, \n",
    "                                     gains={'cN': 0, 'dN': 0},\n",
    "                                     hand_written_deriv=None, disp=False, Hcheck=False)"
   ]
  },
  {
   "cell_type": "markdown",
   "id": "1b38cd14",
   "metadata": {},
   "source": [
    "###### <u>Case №2</u>: Yes?"
   ]
  },
  {
   "cell_type": "code",
   "execution_count": 3,
   "id": "2ea07fa6",
   "metadata": {
    "scrolled": true
   },
   "outputs": [
    {
     "name": "stdout",
     "output_type": "stream",
     "text": [
      "\u001b[0m\u001b[1mВектор состояния:\u001b[0m\u001b[0m\n"
     ]
    },
    {
     "data": {
      "text/latex": [
       "$\\displaystyle \\left[\\begin{matrix}r^{d}_{0 x}{\\left(t \\right)} & r^{d}_{0 y}{\\left(t \\right)} & r^{d}_{0 z}{\\left(t \\right)} & v^{d}_{0 x}{\\left(t \\right)} & v^{d}_{0 y}{\\left(t \\right)} & v^{d}_{0 z}{\\left(t \\right)}\\end{matrix}\\right]$"
      ],
      "text/plain": [
       "Matrix([[r_0^d_x(t), r_0^d_y(t), r_0^d_z(t), v_0^d_x(t), v_0^d_y(t), v_0^d_z(t)]])"
      ]
     },
     "metadata": {},
     "output_type": "display_data"
    },
    {
     "name": "stdout",
     "output_type": "stream",
     "text": [
      "\u001b[0m\u001b[1mВектор состояния (изменённый):\u001b[0m\u001b[0m\n"
     ]
    },
    {
     "data": {
      "text/latex": [
       "$\\displaystyle \\left[\\begin{matrix}r^{d}_{0 x}{\\left(t \\right)} & r^{d}_{0 z}{\\left(t \\right)} & v^{d}_{0 x}{\\left(t \\right)} & v^{d}_{0 z}{\\left(t \\right)}\\end{matrix}\\right]$"
      ],
      "text/plain": [
       "Matrix([[r_0^d_x(t), r_0^d_z(t), v_0^d_x(t), v_0^d_z(t)]])"
      ]
     },
     "metadata": {},
     "output_type": "display_data"
    },
    {
     "name": "stdout",
     "output_type": "stream",
     "text": [
      "\u001b[0m\u001b[1mКоличество кубсатов: 2\n",
      "Количество чипсатов: 1\n",
      "\u001b[0m\u001b[0m\n",
      "Неизвестные: n = 4 (на каждый чипсат по 4 параметров)\n",
      "Известные: l = 2\n",
      "∃ производные порядка k = 2.0 (Должна быть целой!)\n",
      "__расчёт матрицы H_: k=2/2, l=1/2\n",
      "__расчёт матрицы H_: k=2/2, l=2/2\n",
      "Размерность матрицы H: (4, 1)\n",
      "Размерность матрицы J: (4, 4)\n",
      "v = [5.11389216e-12 1.62658057e-12 1.39505775e-13 1.45197334e-15]\n",
      "σₘₙ/σₘₐₓ = 1.451973336613137e-15/5.11389216243964e-12 = 0.00028392724963532604 | σ>10⁻⁷: 0/4 (f-051)\n",
      "\n",
      "Ранг матрицы: [0, 0, 3, 4, 4, 4] | [0.001, 1e-05, 1e-07, 1e-10, 1e-12, 1e-15] (f-055)\n",
      "Детерминант матрицы: 4.10477149875247e-26\n",
      "Следующие параметры не должны быть нулевыми:\n",
      "\n",
      "A: (4, 4), J: (4, 4)\n",
      "Δ_0 = -2.2222222222222222e-07\n",
      "Δ_1 / Δ_0 = 4.547719121953598e-07\n",
      "Δ_2 / Δ_1 = -4.446656813560581e-07\n",
      "Δ_3 / Δ_2 = 9.134278599125683e-07\n",
      "\n",
      "\u001b[1mВыполнено достаточное условие! Система наблюдаема\u001b[0m\n"
     ]
    }
   ],
   "source": [
    "H, J, Jn, Δ, report = observe_system(n_c=2, n_d=1, \n",
    "                                     is_d_qw=False, \n",
    "                                     is_drag=False, \n",
    "                                     is_only_xz=True, \n",
    "                                     gains={'cN': 0, 'dN': 0},\n",
    "                                     hand_written_deriv=None, disp=False, Hcheck=False)"
   ]
  },
  {
   "cell_type": "markdown",
   "id": "7714e2a5",
   "metadata": {},
   "source": [
    "###### <u>Case №3</u>: Yes?"
   ]
  },
  {
   "cell_type": "code",
   "execution_count": 16,
   "id": "2e44d5a0",
   "metadata": {
    "scrolled": true
   },
   "outputs": [
    {
     "name": "stdout",
     "output_type": "stream",
     "text": [
      "\u001b[0m\u001b[1mВектор состояния:\u001b[0m\u001b[0m\n"
     ]
    },
    {
     "data": {
      "text/latex": [
       "$\\displaystyle \\left[\\begin{matrix}r^{d}_{0 x}{\\left(t \\right)} & r^{d}_{0 y}{\\left(t \\right)} & r^{d}_{0 z}{\\left(t \\right)} & v^{d}_{0 x}{\\left(t \\right)} & v^{d}_{0 y}{\\left(t \\right)} & v^{d}_{0 z}{\\left(t \\right)}\\end{matrix}\\right]$"
      ],
      "text/plain": [
       "Matrix([[r_0^d_x(t), r_0^d_y(t), r_0^d_z(t), v_0^d_x(t), v_0^d_y(t), v_0^d_z(t)]])"
      ]
     },
     "metadata": {},
     "output_type": "display_data"
    },
    {
     "name": "stdout",
     "output_type": "stream",
     "text": [
      "\u001b[0m\u001b[1mКоличество кубсатов: 3\n",
      "Количество чипсатов: 1\n",
      "\u001b[0m\u001b[0m\n",
      "Неизвестные: n = 6 (на каждый чипсат по 6 параметров)\n",
      "Известные: l = 3\n",
      "∃ производные порядка k = 2.0 (Должна быть целой!)\n",
      "__расчёт матрицы H_: k=2/2, l=1/3\n",
      "__расчёт матрицы H_: k=2/2, l=2/3\n",
      "__расчёт матрицы H_: k=2/2, l=3/3\n",
      "Размерность матрицы H: (6, 1)\n",
      "Размерность матрицы J: (6, 6)\n",
      "-1/781250\n",
      "-2.02401037840931e-7\n",
      "-5.07820042868473e-7\n",
      "4.09600000000000e-9\n",
      "5.10819720811414e-10\n",
      "1.81990123773564e-9\n",
      "-1/1562500\n",
      "-1.67534712127574e-7\n",
      "-1.42280075637396e-7\n",
      "-5.12000000000000e-10\n",
      "8.12118486310385e-11\n",
      "-2.15225745471797e-10\n",
      "0\n",
      "2.16298674431748e-8\n",
      "-2.09991324983052e-7\n",
      "-2.56000000000000e-9\n",
      "-3.17754288277653e-10\n",
      "-1.72627776369641e-10\n",
      "0\n",
      "0\n",
      "0\n",
      "-1/390625\n",
      "-4.04802075681861e-7\n",
      "-1.01564008573695e-6\n",
      "0\n",
      "0\n",
      "0\n",
      "-1/781250\n",
      "-3.35069424255149e-7\n",
      "-2.84560151274793e-7\n",
      "0\n",
      "0\n",
      "0\n",
      "0\n",
      "4.32597348863496e-8\n",
      "-4.19982649966105e-7\n",
      "v = [9.54726993e-12 2.38680519e-12 2.04534103e-13 5.11332322e-14\n",
      " 7.12030092e-15 1.78000739e-15]\n",
      "σₘₙ/σₘₐₓ = 1.780007392206537e-15/9.547269930611317e-12 = 0.00018644150685415492 | σ>10⁻⁷: 0/6 (f-051)\n",
      "\n",
      "Ранг матрицы: [0, 0, 4, 6, 6, 6] | [0.001, 1e-05, 1e-07, 1e-10, 1e-12, 1e-15] (f-055)\n",
      "Детерминант матрицы: 1.7379715103873815e-39\n",
      "Следующие параметры не должны быть нулевыми:\n",
      "\n",
      "A: (6, 6), J: (6, 6)\n",
      "Δ_0 = -1.2800000000000009e-06\n",
      "Δ_1 / Δ_0 = -6.633419320710895e-08\n",
      "Δ_2 / Δ_1 = -1.735916823020042e-07\n",
      "Δ_3 / Δ_2 = -2.5599999999999975e-06\n",
      "Δ_4 / Δ_3 = -1.3266838641421815e-07\n",
      "Δ_5 / Δ_4 = -3.471833646040053e-07\n",
      "\n",
      "\u001b[1mВыполнено достаточное условие! Система наблюдаема\u001b[0m\n"
     ]
    }
   ],
   "source": [
    "H, J, Jn, Δ, report = observe_system(n_c=3, n_d=1, \n",
    "                                     is_d_qw=False, \n",
    "                                     is_drag=False, \n",
    "                                     is_only_xz=False, \n",
    "                                     gains={'cN': 0, 'dN': 0},\n",
    "                                     hand_written_deriv=None, disp=False, Hcheck=False)"
   ]
  },
  {
   "cell_type": "markdown",
   "id": "a1263840",
   "metadata": {},
   "source": [
    "###### <u>Case №4</u>: Yes?"
   ]
  },
  {
   "cell_type": "code",
   "execution_count": 17,
   "id": "5356be25",
   "metadata": {},
   "outputs": [
    {
     "name": "stdout",
     "output_type": "stream",
     "text": [
      "\u001b[0m\u001b[1mВектор состояния:\u001b[0m\u001b[0m\n"
     ]
    },
    {
     "data": {
      "text/latex": [
       "$\\displaystyle \\left[\\begin{matrix}r^{d}_{0 x}{\\left(t \\right)} & r^{d}_{0 y}{\\left(t \\right)} & r^{d}_{0 z}{\\left(t \\right)} & v^{d}_{0 x}{\\left(t \\right)} & v^{d}_{0 y}{\\left(t \\right)} & v^{d}_{0 z}{\\left(t \\right)}\\end{matrix}\\right]$"
      ],
      "text/plain": [
       "Matrix([[r_0^d_x(t), r_0^d_y(t), r_0^d_z(t), v_0^d_x(t), v_0^d_y(t), v_0^d_z(t)]])"
      ]
     },
     "metadata": {},
     "output_type": "display_data"
    },
    {
     "name": "stdout",
     "output_type": "stream",
     "text": [
      "\u001b[0m\u001b[1mВектор состояния (изменённый):\u001b[0m\u001b[0m\n"
     ]
    },
    {
     "data": {
      "text/latex": [
       "$\\displaystyle \\left[\\begin{matrix}r^{d}_{0 x}{\\left(t \\right)} & r^{d}_{0 z}{\\left(t \\right)} & v^{d}_{0 x}{\\left(t \\right)} & v^{d}_{0 z}{\\left(t \\right)}\\end{matrix}\\right]$"
      ],
      "text/plain": [
       "Matrix([[r_0^d_x(t), r_0^d_z(t), v_0^d_x(t), v_0^d_z(t)]])"
      ]
     },
     "metadata": {},
     "output_type": "display_data"
    },
    {
     "name": "stdout",
     "output_type": "stream",
     "text": [
      "\u001b[0m\u001b[1mКоличество кубсатов: 1\n",
      "Количество чипсатов: 1\n",
      "\u001b[0m\u001b[0m\n",
      "Неизвестные: n = 4 (на каждый чипсат по 4 параметров)\n",
      "Известные: l = 1\n",
      "∃ производные порядка k = 4.0 (Должна быть целой!)\n",
      "__расчёт матрицы H_: k=2/4, l=1/1\n",
      "__расчёт матрицы H_: k=3/4, l=1/1\n",
      "__расчёт матрицы H_: k=4/4, l=1/1\n"
     ]
    },
    {
     "name": "stderr",
     "output_type": "stream",
     "text": [
      "\n",
      "KeyboardInterrupt\n",
      "\n"
     ]
    }
   ],
   "source": [
    "H, J, Jn, Δ, report = observe_system(n_c=1, n_d=1, \n",
    "                                     is_d_qw=False, \n",
    "                                     is_drag=True, \n",
    "                                     is_only_xz=True, \n",
    "                                     gains={'cN': 0, 'dN': 0},\n",
    "                                     hand_written_deriv=None, disp=False, Hcheck=False)"
   ]
  },
  {
   "cell_type": "markdown",
   "id": "aa8eaa12",
   "metadata": {},
   "source": [
    "###### <u>Case №5</u>: Yes?"
   ]
  },
  {
   "cell_type": "code",
   "execution_count": 19,
   "id": "a5d0ee8a",
   "metadata": {
    "scrolled": true
   },
   "outputs": [
    {
     "name": "stdout",
     "output_type": "stream",
     "text": [
      "\u001b[0m\u001b[1mВектор состояния:\u001b[0m\u001b[0m\n"
     ]
    },
    {
     "data": {
      "text/latex": [
       "$\\displaystyle \\left[\\begin{matrix}r^{d}_{0 x}{\\left(t \\right)} & r^{d}_{0 y}{\\left(t \\right)} & r^{d}_{0 z}{\\left(t \\right)} & v^{d}_{0 x}{\\left(t \\right)} & v^{d}_{0 y}{\\left(t \\right)} & v^{d}_{0 z}{\\left(t \\right)}\\end{matrix}\\right]$"
      ],
      "text/plain": [
       "Matrix([[r_0^d_x(t), r_0^d_y(t), r_0^d_z(t), v_0^d_x(t), v_0^d_y(t), v_0^d_z(t)]])"
      ]
     },
     "metadata": {},
     "output_type": "display_data"
    },
    {
     "name": "stdout",
     "output_type": "stream",
     "text": [
      "\u001b[0m\u001b[1mКоличество кубсатов: 2\n",
      "Количество чипсатов: 1\n",
      "\u001b[0m\u001b[0m\n",
      "Неизвестные: n = 6 (на каждый чипсат по 6 параметров)\n",
      "Известные: l = 2\n",
      "∃ производные порядка k = 3.0 (Должна быть целой!)\n",
      "__расчёт матрицы H_: k=2/3, l=1/2\n",
      "__расчёт матрицы H_: k=2/3, l=2/2\n",
      "__расчёт матрицы H_: k=3/3, l=1/2\n",
      "__расчёт матрицы H_: k=3/3, l=2/2\n",
      "Размерность матрицы H: (6, 1)\n",
      "Размерность матрицы J: (6, 6)\n",
      "v = [9.38210095e-12 2.52871128e-12 2.34542888e-12 6.32151715e-13\n",
      " 3.20477050e-17 4.95741043e-24]\n",
      "σₘₙ/σₘₐₓ = 4.957410433988719e-24/9.382100947973991e-12 = 5.283902253321248e-13 | σ>10⁻⁷: 0/6 (f-051)\n",
      "\n",
      "Ранг матрицы: [0, 0, 4, 5, 6, 6] | [0.001, 1e-05, 1e-07, 1e-10, 1e-12, 1e-15] (f-055)\n",
      "Детерминант матрицы: -7.475735192465199e-44\n",
      "Следующие параметры не должны быть нулевыми:\n",
      "\n",
      "A: (6, 6), J: (6, 6)\n",
      "Δ_0 = -1.2800000000000009e-06\n",
      "Δ_1 / Δ_0 = 6.765782845027379e-07\n",
      "Δ_2 / Δ_1 = -4.823177747684256e-09\n",
      "Δ_3 / Δ_2 = -1.749313940936292e-07\n",
      "Δ_4 / Δ_3 = -1.2064307115619648e-08\n",
      "Δ_5 / Δ_4 = -8.48051987674479e-09\n",
      "\n",
      "\u001b[1mВыполнено достаточное условие! Система наблюдаема\u001b[0m\n"
     ]
    }
   ],
   "source": [
    "H, J, Jn, Δ, report = observe_system(n_c=2, n_d=1, \n",
    "                                     is_d_qw=False, \n",
    "                                     is_drag=True, \n",
    "                                     is_only_xz=False, \n",
    "                                     gains={'cN': 0, 'dN': 0},\n",
    "                                     hand_written_deriv=None, disp=False, Hcheck=False)"
   ]
  },
  {
   "cell_type": "markdown",
   "id": "37c3636b",
   "metadata": {},
   "source": [
    "###### <u>Case №6</u>: Yes?"
   ]
  },
  {
   "cell_type": "code",
   "execution_count": 36,
   "id": "fa282ffa",
   "metadata": {
    "scrolled": true
   },
   "outputs": [
    {
     "name": "stdout",
     "output_type": "stream",
     "text": [
      "\u001b[0m\u001b[1mВектор состояния:\u001b[0m\u001b[0m\n"
     ]
    },
    {
     "data": {
      "text/latex": [
       "$\\displaystyle \\left[\\begin{matrix}r^{d}_{0 x}{\\left(t \\right)} & r^{d}_{0 y}{\\left(t \\right)} & r^{d}_{0 z}{\\left(t \\right)} & v^{d}_{0 x}{\\left(t \\right)} & v^{d}_{0 y}{\\left(t \\right)} & v^{d}_{0 z}{\\left(t \\right)}\\end{matrix}\\right]$"
      ],
      "text/plain": [
       "Matrix([[r_0^d_x(t), r_0^d_y(t), r_0^d_z(t), v_0^d_x(t), v_0^d_y(t), v_0^d_z(t)]])"
      ]
     },
     "metadata": {},
     "output_type": "display_data"
    },
    {
     "name": "stdout",
     "output_type": "stream",
     "text": [
      "\u001b[0m\u001b[1mКоличество кубсатов: 1\n",
      "Количество чипсатов: 1\n",
      "\u001b[0m\u001b[0m\n",
      "Неизвестные: n = 6 (на каждый чипсат по 6 параметров)\n",
      "Известные: l = 3\n",
      "∃ производные порядка k = 2.0 (Должна быть целой!)\n",
      "__расчёт матрицы H_: k=2/2, l=1/3\n",
      "__расчёт матрицы H_: k=2/2, l=2/3\n",
      "__расчёт матрицы H_: k=2/2, l=3/3\n",
      "Размерность матрицы H: (6, 1)\n",
      "Размерность матрицы J: (6, 6)\n",
      "v = [1.55370856e-12 7.80379760e-13 3.88420212e-13 2.78723826e-13\n",
      " 1.95091013e-13 6.96796180e-14]\n",
      "σₘₙ/σₘₐₓ = 6.967961797813558e-14/1.5537085550107615e-12 = 0.044847289894502096 | σ>10⁻⁷: 0/6 (f-051)\n",
      "\n",
      "Ранг матрицы: [0, 0, 6, 6, 6, 6] | [0.001, 1e-05, 1e-07, 1e-10, 1e-12, 1e-15] (f-055)\n",
      "Детерминант матрицы: 4.2242269911857216e-38\n",
      "Следующие параметры не должны быть нулевыми:\n",
      "\n",
      "A: (6, 6), J: (6, 6)\n",
      "Δ_0 = -4.0897448148144277e-07\n",
      "Δ_1 / Δ_0 = 4.2461325724584713e-07\n",
      "Δ_2 / Δ_1 = 4.1844546947364486e-07\n",
      "Δ_3 / Δ_2 = -8.179489629628842e-07\n",
      "Δ_4 / Δ_3 = 8.492265144916988e-07\n",
      "Δ_5 / Δ_4 = 8.368909389472913e-07\n",
      "\n",
      "\u001b[1mВыполнено достаточное условие! Система наблюдаема\u001b[0m\n"
     ]
    }
   ],
   "source": [
    "H, J, Jn, Δ, report = observe_system(n_c=1, n_d=1, \n",
    "                                     is_d_qw=False, \n",
    "                                     is_drag=False, \n",
    "                                     is_only_xz=False, \n",
    "                                     gains={'cN': 3, 'dN': 0},\n",
    "                                     hand_written_deriv=None, disp=False, Hcheck=False)"
   ]
  },
  {
   "cell_type": "markdown",
   "id": "a7f6e2f5",
   "metadata": {},
   "source": [
    "###### <u>Case №7</u>: Yes?"
   ]
  },
  {
   "cell_type": "code",
   "execution_count": null,
   "id": "dabf1118",
   "metadata": {},
   "outputs": [],
   "source": [
    "H, J, Jn, Δ, report = observe_system(n_c=1, n_d=1, \n",
    "                                     is_d_qw=False, \n",
    "                                     is_drag=True, \n",
    "                                     is_only_xz=False, \n",
    "                                     gains={'cN': 3, 'dN': 0},\n",
    "                                     hand_written_deriv=None, disp=False, Hcheck=False)"
   ]
  },
  {
   "cell_type": "markdown",
   "id": "b3638e15",
   "metadata": {},
   "source": [
    "###### <u>Case №8</u>: No?"
   ]
  },
  {
   "cell_type": "code",
   "execution_count": null,
   "id": "e75ceeb1",
   "metadata": {},
   "outputs": [],
   "source": [
    "H, J, Jn, Δ, report = observe_system(n_c=1, n_d=1, \n",
    "                                     is_d_qw=False, \n",
    "                                     is_drag=True, \n",
    "                                     is_only_xz=False, \n",
    "                                     gains={'cN': 3, 'dN': 1},\n",
    "                                     hand_written_deriv=None, disp=False, Hcheck=False)"
   ]
  },
  {
   "cell_type": "markdown",
   "id": "598fe469",
   "metadata": {},
   "source": [
    "###### <u>Case №9</u>: Yes?"
   ]
  },
  {
   "cell_type": "code",
   "execution_count": null,
   "id": "f91ac136",
   "metadata": {},
   "outputs": [],
   "source": [
    "H, J, Jn, Δ, report = observe_system(n_c=1, n_d=1, \n",
    "                                     is_d_qw=False, \n",
    "                                     is_drag=True, \n",
    "                                     is_only_xz=False, \n",
    "                                     gains={'cN': 3, 'dN': 1},\n",
    "                                     hand_written_deriv=None, disp=False, Hcheck=False)"
   ]
  },
  {
   "cell_type": "code",
   "execution_count": null,
   "id": "b83ec35b",
   "metadata": {
    "scrolled": true
   },
   "outputs": [],
   "source": []
  }
 ],
 "metadata": {
  "kernelspec": {
   "display_name": "Python 3 (ipykernel)",
   "language": "python",
   "name": "python3"
  },
  "language_info": {
   "codemirror_mode": {
    "name": "ipython",
    "version": 3
   },
   "file_extension": ".py",
   "mimetype": "text/x-python",
   "name": "python",
   "nbconvert_exporter": "python",
   "pygments_lexer": "ipython3",
   "version": "3.10.12"
  }
 },
 "nbformat": 4,
 "nbformat_minor": 5
}
