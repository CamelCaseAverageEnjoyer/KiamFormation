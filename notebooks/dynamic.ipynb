{
 "cells": [
  {
   "cell_type": "markdown",
   "id": "627a01cd",
   "metadata": {},
   "source": [
    "![](img/15_dynamics.png)"
   ]
  },
  {
   "cell_type": "markdown",
   "id": "0ad5b1ef",
   "metadata": {},
   "source": [
    "##### <u>Инициализация</u>"
   ]
  },
  {
   "cell_type": "code",
   "execution_count": 39,
   "id": "7f6e635e",
   "metadata": {},
   "outputs": [
    {
     "name": "stdout",
     "output_type": "stream",
     "text": [
      "CubeSat q: quaternion(0.5, -0.5, -0.5, -0.5)\n",
      "v: [0.      0.01108 0.1108 ]\n",
      "Высота орбиты: 500 км\n",
      "Период орбиты: 1.57 часов\n",
      "Плотность атмосферы: 5.264107768251325e-13 кг/м³\n"
     ]
    }
   ],
   "source": [
    "from __init__ import *\n",
    "o = kf.init(symbolic=True)\n",
    "t, ω, μ, ρ = o.p.t, o.W_ORB, o.MU, o.RHO "
   ]
  },
  {
   "cell_type": "markdown",
   "id": "8106820d",
   "metadata": {},
   "source": [
    "##### <u>Quaternion of ORF-fixed spacecraft</u>"
   ]
  },
  {
   "cell_type": "code",
   "execution_count": 3,
   "id": "380501d9",
   "metadata": {},
   "outputs": [
    {
     "name": "stdout",
     "output_type": "stream",
     "text": [
      "CubeSat q: quaternion(0.5, -0.5, -0.5, -0.5)\n",
      "v: [0.      0.01108 0.1108 ]\n"
     ]
    }
   ],
   "source": [
    "from __init__ import *\n",
    "import numpy as np\n",
    "from scipy.spatial.transform import Rotation as R\n",
    "o = kf.init()\n",
    "\n",
    "def show_matrices():\n",
    "    kf.my_print(f\"Матрица U:\", bold=True)\n",
    "    print(U)\n",
    "    kf.my_print(f\"Матрица S:\", bold=True)\n",
    "    print(S)\n",
    "    kf.my_print(f\"Матрица A:\", bold=True)\n",
    "    print(A)"
   ]
  },
  {
   "cell_type": "code",
   "execution_count": null,
   "id": "a2e6b72d",
   "metadata": {},
   "outputs": [],
   "source": [
    "#### o.c.q[0] = np.quaternion(0.5, -0.5, -0.5, -0.5)\n",
    "\n",
    "U, S, A, _ = kf.get_matrices(o=o, t=o.p.t, obj=o.c, n=0, q=o.c.q[0])\n",
    "show_matrices()"
   ]
  },
  {
   "cell_type": "code",
   "execution_count": 13,
   "id": "c2000b86",
   "metadata": {},
   "outputs": [
    {
     "data": {
      "text/plain": [
       "array([[ 0.        ,  1.        ,  0.        ],\n",
       "       [ 0.89501928,  0.        ,  0.44602745],\n",
       "       [ 0.44602745,  0.        , -0.89501928]])"
      ]
     },
     "execution_count": 13,
     "metadata": {},
     "output_type": "execute_result"
    }
   ],
   "source": [
    "kf.quart2dcm(np.quaternion(*R.from_matrix(U.T).as_quat()).conj())"
   ]
  },
  {
   "cell_type": "code",
   "execution_count": 8,
   "id": "f5e34954",
   "metadata": {},
   "outputs": [
    {
     "name": "stdout",
     "output_type": "stream",
     "text": [
      "\u001b[0m\u001b[1mRequired quaternion:\u001b[0m\u001b[0m\n",
      "quaternion(0.162003639661323, -0.688298496828581, -0.688298496828581, -0.162003639661323)\n",
      "\u001b[0m\u001b[1mВосстановленная A:\u001b[0m\u001b[0m\n",
      "[[ 0.          1.          0.        ]\n",
      " [ 0.89501928  0.          0.44602745]\n",
      " [ 0.44602745  0.         -0.89501928]]\n",
      "\u001b[0m\u001b[1mМатрица U:\u001b[0m\u001b[0m\n",
      "[[-0.89501928  0.44602745  0.        ]\n",
      " [ 0.          0.          1.        ]\n",
      " [ 0.44602745  0.89501928  0.        ]]\n",
      "\u001b[0m\u001b[1mМатрица S:\u001b[0m\u001b[0m\n",
      "[[ 0.44602745  0.          0.89501928]\n",
      " [-0.80105952  0.44602745  0.39920317]\n",
      " [-0.39920317 -0.89501928  0.19894048]]\n",
      "\u001b[0m\u001b[1mМатрица A:\u001b[0m\u001b[0m\n",
      "[[ 0.          1.          0.        ]\n",
      " [ 0.89501928  0.          0.44602745]\n",
      " [ 0.44602745  0.         -0.89501928]]\n"
     ]
    }
   ],
   "source": [
    "o.p.t = 1000\n",
    "\n",
    "U, S, A, _ = kf.get_matrices(o=o, t=o.p.t, obj=o.c, n=0, q=o.c.q[0])\n",
    "o.c.q[0] = np.quaternion(*R.from_matrix(U.T).as_quat()).conj()\n",
    "U, S, A, _ = kf.get_matrices(o=o, t=o.p.t, obj=o.c, n=0, q=o.c.q[0])\n",
    "kf.my_print(f\"Required quaternion:\", bold=True)\n",
    "print(o.c.q[0])\n",
    "kf.my_print(f\"Восстановленная A:\", bold=True)\n",
    "print(kf.quart2dcm(o.c.q[0]))\n",
    "show_matrices()"
   ]
  },
  {
   "cell_type": "markdown",
   "id": "02581d95",
   "metadata": {
    "jp-MarkdownHeadingCollapsed": true
   },
   "source": [
    "##### <u>Компоненты производной угловой скорости</u>"
   ]
  },
  {
   "cell_type": "code",
   "execution_count": 23,
   "id": "c15edc18",
   "metadata": {
    "scrolled": true
   },
   "outputs": [],
   "source": [
    "M = 3 * μ / R_0**5 * (S @ R_orb).cross(J @ S @ R_orb)\n",
    "w = Matrix(kf.get_func(\"w\", 3, numb=False, t=t))\n",
    "dw = Matrix(kf.get_func(\"dw\", 3, numb=False, t=t))\n",
    "\n",
    "w_diff = J.inv() @ (- (w).cross(J @ w) + M)\n",
    "w_diff = A.T @ J.inv() @ (- (A @ w).cross(J @ A @ w) + M)"
   ]
  },
  {
   "cell_type": "code",
   "execution_count": null,
   "id": "3f814d80",
   "metadata": {},
   "outputs": [],
   "source": [
    "print(f\"Разложение по Тейлору:\")\n",
    "display(w_diff[0].subs([(w[0], w[0]+dw[0])]).diff(dw[0]).expand())"
   ]
  },
  {
   "cell_type": "markdown",
   "id": "c0403f6d",
   "metadata": {},
   "source": [
    "##### <u>Решение уравнений Хилла-Клохесси-Уилтшира</u> (нигде не используется в проекте)"
   ]
  },
  {
   "cell_type": "markdown",
   "id": "cd983500",
   "metadata": {},
   "source": [
    "$$r(t)=Ar(0)+B\\dot{r}(0)$$\n",
    "$$\\dot{r}(0) = B^{-1}\\left( r(t) - Ar(0) \\right)$$"
   ]
  },
  {
   "cell_type": "code",
   "execution_count": 7,
   "id": "f8483287",
   "metadata": {},
   "outputs": [
    {
     "name": "stdout",
     "output_type": "stream",
     "text": [
      "v: [0.  0.1 0.1]\n",
      "Высота орбиты: 500 км\n",
      "Период орбиты: 1.57 часов\n",
      "Плотность атмосферы: 5.264107768251325e-13 кг/м³\n",
      "\u001b[0m\u001b[1mУравнения ХКУ:\u001b[0m\u001b[0m\n"
     ]
    },
    {
     "data": {
      "text/latex": [
       "$\\displaystyle \\frac{d}{d t} r_{x}{\\left(t \\right)} = v_{x}{\\left(t \\right)}$"
      ],
      "text/plain": [
       "Eq(Derivative(r_x(t), t), v_x(t))"
      ]
     },
     "metadata": {},
     "output_type": "display_data"
    },
    {
     "data": {
      "text/latex": [
       "$\\displaystyle \\frac{d}{d t} r_{y}{\\left(t \\right)} = v_{y}{\\left(t \\right)}$"
      ],
      "text/plain": [
       "Eq(Derivative(r_y(t), t), v_y(t))"
      ]
     },
     "metadata": {},
     "output_type": "display_data"
    },
    {
     "data": {
      "text/latex": [
       "$\\displaystyle \\frac{d}{d t} r_{z}{\\left(t \\right)} = v_{z}{\\left(t \\right)}$"
      ],
      "text/plain": [
       "Eq(Derivative(r_z(t), t), v_z(t))"
      ]
     },
     "metadata": {},
     "output_type": "display_data"
    },
    {
     "data": {
      "text/latex": [
       "$\\displaystyle \\frac{d}{d t} v_{x}{\\left(t \\right)} = - 2 w_{0} v_{z}{\\left(t \\right)}$"
      ],
      "text/plain": [
       "Eq(Derivative(v_x(t), t), -2*w_0*v_z(t))"
      ]
     },
     "metadata": {},
     "output_type": "display_data"
    },
    {
     "data": {
      "text/latex": [
       "$\\displaystyle \\frac{d}{d t} v_{y}{\\left(t \\right)} = - w_{0}^{2} r_{y}{\\left(t \\right)}$"
      ],
      "text/plain": [
       "Eq(Derivative(v_y(t), t), -w_0**2*r_y(t))"
      ]
     },
     "metadata": {},
     "output_type": "display_data"
    },
    {
     "data": {
      "text/latex": [
       "$\\displaystyle \\frac{d}{d t} v_{z}{\\left(t \\right)} = 3 w_{0}^{2} r_{z}{\\left(t \\right)} + 2 w_{0} v_{x}{\\left(t \\right)}$"
      ],
      "text/plain": [
       "Eq(Derivative(v_z(t), t), 3*w_0**2*r_z(t) + 2*w_0*v_x(t))"
      ]
     },
     "metadata": {},
     "output_type": "display_data"
    },
    {
     "data": {
      "text/latex": [
       "$\\displaystyle r_{x}{\\left(t \\right)} = r^{0}_{x} - t \\left(6 r^{0}_{z} w_{0} + 3 v^{0}_{x}\\right) + \\frac{2 v^{0}_{z} \\cos{\\left(t w_{0} \\right)}}{w_{0}} - \\frac{2 v^{0}_{z}}{w_{0}} + \\left(6 r^{0}_{z} + \\frac{4 v^{0}_{x}}{w_{0}}\\right) \\sin{\\left(t w_{0} \\right)}$"
      ],
      "text/plain": [
       "Eq(r_x(t), r^0_x - t*(6*r^0_z*w_0 + 3*v^0_x) + 2*v^0_z*cos(t*w_0)/w_0 - 2*v^0_z/w_0 + (6*r^0_z + 4*v^0_x/w_0)*sin(t*w_0))"
      ]
     },
     "metadata": {},
     "output_type": "display_data"
    },
    {
     "data": {
      "text/latex": [
       "$\\displaystyle r_{y}{\\left(t \\right)} = r^{0}_{y} \\cos{\\left(t w_{0} \\right)} + \\frac{v^{0}_{y} \\sin{\\left(t w_{0} \\right)}}{w_{0}}$"
      ],
      "text/plain": [
       "Eq(r_y(t), r^0_y*cos(t*w_0) + v^0_y*sin(t*w_0)/w_0)"
      ]
     },
     "metadata": {},
     "output_type": "display_data"
    },
    {
     "data": {
      "text/latex": [
       "$\\displaystyle r_{z}{\\left(t \\right)} = 4 r^{0}_{z} + \\frac{2 v^{0}_{x}}{w_{0}} + \\frac{v^{0}_{z} \\sin{\\left(t w_{0} \\right)}}{w_{0}} - \\left(3 r^{0}_{z} + \\frac{2 v^{0}_{x}}{w_{0}}\\right) \\cos{\\left(t w_{0} \\right)}$"
      ],
      "text/plain": [
       "Eq(r_z(t), 4*r^0_z + 2*v^0_x/w_0 + v^0_z*sin(t*w_0)/w_0 - (3*r^0_z + 2*v^0_x/w_0)*cos(t*w_0))"
      ]
     },
     "metadata": {},
     "output_type": "display_data"
    },
    {
     "data": {
      "text/latex": [
       "$\\displaystyle v_{x}{\\left(t \\right)} = - 6 r^{0}_{z} w_{0} - 3 v^{0}_{x} - 2 v^{0}_{z} \\sin{\\left(t w_{0} \\right)} + \\left(6 r^{0}_{z} w_{0} + 4 v^{0}_{x}\\right) \\cos{\\left(t w_{0} \\right)}$"
      ],
      "text/plain": [
       "Eq(v_x(t), -6*r^0_z*w_0 - 3*v^0_x - 2*v^0_z*sin(t*w_0) + (6*r^0_z*w_0 + 4*v^0_x)*cos(t*w_0))"
      ]
     },
     "metadata": {},
     "output_type": "display_data"
    },
    {
     "data": {
      "text/latex": [
       "$\\displaystyle v_{y}{\\left(t \\right)} = - r^{0}_{y} w_{0} \\sin{\\left(t w_{0} \\right)} + v^{0}_{y} \\cos{\\left(t w_{0} \\right)}$"
      ],
      "text/plain": [
       "Eq(v_y(t), -r^0_y*w_0*sin(t*w_0) + v^0_y*cos(t*w_0))"
      ]
     },
     "metadata": {},
     "output_type": "display_data"
    },
    {
     "data": {
      "text/latex": [
       "$\\displaystyle v_{z}{\\left(t \\right)} = v^{0}_{z} \\cos{\\left(t w_{0} \\right)} + \\left(3 r^{0}_{z} w_{0} + 2 v^{0}_{x}\\right) \\sin{\\left(t w_{0} \\right)}$"
      ],
      "text/plain": [
       "Eq(v_z(t), v^0_z*cos(t*w_0) + (3*r^0_z*w_0 + 2*v^0_x)*sin(t*w_0))"
      ]
     },
     "metadata": {},
     "output_type": "display_data"
    }
   ],
   "source": [
    "from __init__ import *\n",
    "o = kf.init(symbolic=True)\n",
    "t, ω, μ, ρ = o.p.t, o.W_ORB, o.MU, o.RHO \n",
    "\n",
    "w, t, tau = var('w_0 t tau', real=True)\n",
    "r0 = kf.get_vars(name='r^0', n=3, numb=False)\n",
    "v0 = kf.get_vars(name='v^0', n=3, numb=False)\n",
    "r = [Function('r_x'), Function('r_y'), Function('r_z')]\n",
    "v = [Function('v_x'), Function('v_y'), Function('v_z')]\n",
    "o.f.r_orf, o.f.v_orf, o.f.q, o.f.w_brf = get_state_vector(func=kf.get_func, obj='d', n=1)\n",
    "o.c.r_orf, o.c.v_orf, o.c.q, o.c.w_brf = get_state_vector(func=kf.get_func, obj='c', n=1)\n",
    "\n",
    "\n",
    "# a = kf.get_geopotential_acceleration(vrs=o.v, r=[r[i](t) for i in range(3)], v=[v[i](t) for i in range(3)], w=w)\n",
    "a = kf.get_full_acceleration(vrs=o.v, obj=o.f, i=0, w=w, mu=μ, rho=ρ, \n",
    "                             r=Matrix([r[i](t) for i in range(3)]), \n",
    "                             v=Matrix([v[i](t) for i in range(3)]))\n",
    "\n",
    "eqs = [Eq(r[0](t).diff(t), v[0](t)), Eq(r[1](t).diff(t), v[1](t)), Eq(r[2](t).diff(t), v[2](t)), \n",
    "       Eq(v[0](t).diff(t), a[0]), Eq(v[1](t).diff(t), a[1]), Eq(v[2](t).diff(t), a[2])]\n",
    "kf.my_print(f\"Уравнения ХКУ:\", bold=True)\n",
    "for e in eqs:\n",
    "    display(e)\n",
    "    \n",
    "ics={r[0](0): r0[0], r[1](0): r0[1], r[2](0): r0[2], \n",
    "     v[0](0): v0[0], v[1](0): v0[1], v[2](0): v0[2]}\n",
    "    \n",
    "anw1 = dsolve(eqs, [r[0](t), r[1](t), r[2](t), v[0](t), v[1](t), v[2](t)], ics=ics)\n",
    "for a in anw1:\n",
    "    display(a)"
   ]
  },
  {
   "cell_type": "code",
   "execution_count": 10,
   "id": "a44508bd",
   "metadata": {},
   "outputs": [
    {
     "name": "stdout",
     "output_type": "stream",
     "text": [
      "v: [0.  0.1 0.1]\n",
      "Высота орбиты: 500 км\n",
      "Период орбиты: 1.57 часов\n",
      "Плотность атмосферы: 5.264107768251325e-13 кг/м³\n",
      "\u001b[0m\u001b[1mУравнения ХКУ:\u001b[0m\u001b[0m\n"
     ]
    },
    {
     "data": {
      "text/latex": [
       "$\\displaystyle \\frac{d}{d t} r_{x}{\\left(t \\right)} = v_{x}{\\left(t \\right)}$"
      ],
      "text/plain": [
       "Eq(Derivative(r_x(t), t), v_x(t))"
      ]
     },
     "metadata": {},
     "output_type": "display_data"
    },
    {
     "data": {
      "text/latex": [
       "$\\displaystyle \\frac{d}{d t} r_{y}{\\left(t \\right)} = v_{y}{\\left(t \\right)}$"
      ],
      "text/plain": [
       "Eq(Derivative(r_y(t), t), v_y(t))"
      ]
     },
     "metadata": {},
     "output_type": "display_data"
    },
    {
     "data": {
      "text/latex": [
       "$\\displaystyle \\frac{d}{d t} r_{z}{\\left(t \\right)} = v_{z}{\\left(t \\right)}$"
      ],
      "text/plain": [
       "Eq(Derivative(r_z(t), t), v_z(t))"
      ]
     },
     "metadata": {},
     "output_type": "display_data"
    },
    {
     "data": {
      "text/latex": [
       "$\\displaystyle \\frac{d}{d t} v_{x}{\\left(t \\right)} = - 2 w_{0} v_{z}{\\left(t \\right)} - \\frac{v_{0}^{2} ρ \\left|{\\left|{C_{d} s^{d}_{0} s^{d}_{1}}\\right|}\\right|}{2 m_{d}}$"
      ],
      "text/plain": [
       "Eq(Derivative(v_x(t), t), -2*w_0*v_z(t) - v_0**2*ρ*Abs(Abs(C_d*s^d_0*s^d_1))/(2*m_d))"
      ]
     },
     "metadata": {},
     "output_type": "display_data"
    },
    {
     "data": {
      "text/latex": [
       "$\\displaystyle \\frac{d}{d t} v_{y}{\\left(t \\right)} = - w_{0}^{2} r_{y}{\\left(t \\right)}$"
      ],
      "text/plain": [
       "Eq(Derivative(v_y(t), t), -w_0**2*r_y(t))"
      ]
     },
     "metadata": {},
     "output_type": "display_data"
    },
    {
     "data": {
      "text/latex": [
       "$\\displaystyle \\frac{d}{d t} v_{z}{\\left(t \\right)} = 3 w_{0}^{2} r_{z}{\\left(t \\right)} + 2 w_{0} v_{x}{\\left(t \\right)}$"
      ],
      "text/plain": [
       "Eq(Derivative(v_z(t), t), 3*w_0**2*r_z(t) + 2*w_0*v_x(t))"
      ]
     },
     "metadata": {},
     "output_type": "display_data"
    }
   ],
   "source": [
    "from __init__ import *\n",
    "o = kf.init(symbolic=True)\n",
    "t, ω, μ, ρ = o.p.t, o.W_ORB, o.MU, o.RHO \n",
    "\n",
    "w, t, tau = var('w_0 t tau', real=True, nonzero=True)\n",
    "r0 = kf.get_vars(name='r^0', n=3, numb=False)\n",
    "v0 = kf.get_vars(name='v^0', n=3, numb=False)\n",
    "r = [Function('r_x'), Function('r_y'), Function('r_z')]\n",
    "v = [Function('v_x'), Function('v_y'), Function('v_z')]\n",
    "o.f.r_orf, o.f.v_orf, o.f.q, o.f.w_brf = get_state_vector(func=kf.get_func, obj='d', n=1)\n",
    "o.c.r_orf, o.c.v_orf, o.c.q, o.c.w_brf = get_state_vector(func=kf.get_func, obj='c', n=1)\n",
    "\n",
    "\n",
    "# Упрощение\n",
    "r12 = Rational(1, 2)\n",
    "o.f.q = [[r12, -r12, -r12, -r12]]\n",
    "\n",
    "o.v.SOLVER = 'rk4 hkw'\n",
    "o.v.DYNAMIC_MODEL['aero drag'] = True\n",
    "# a = kf.get_geopotential_acceleration(vrs=o.v, r=[r[i](t) for i in range(3)], v=[v[i](t) for i in range(3)], w=w)\n",
    "a = kf.get_full_acceleration(vrs=o.v, obj=o.f, i=0, w=w, mu=μ, rho=ρ, \n",
    "                             r=Matrix([r[i](t) for i in range(3)]), \n",
    "                             v=Matrix([v[i](t) for i in range(3)]))\n",
    "\n",
    "eqs = [Eq(r[0](t).diff(t), v[0](t)), Eq(r[1](t).diff(t), v[1](t)), Eq(r[2](t).diff(t), v[2](t)), \n",
    "       Eq(v[0](t).diff(t), a[0]), Eq(v[1](t).diff(t), a[1]), Eq(v[2](t).diff(t), a[2])]\n",
    "kf.my_print(f\"Уравнения ХКУ:\", bold=True)\n",
    "for e in eqs:\n",
    "    display(e)"
   ]
  },
  {
   "cell_type": "code",
   "execution_count": 11,
   "id": "bdf6ea41",
   "metadata": {},
   "outputs": [
    {
     "data": {
      "text/latex": [
       "$\\displaystyle r_{x}{\\left(t \\right)} = r^{0}_{x} - t \\left(6 r^{0}_{z} w_{0} + 3 v^{0}_{x}\\right) - \\frac{2 v^{0}_{z}}{w_{0}} + \\left(6 r^{0}_{z} + \\frac{4 v^{0}_{x}}{w_{0}}\\right) \\sin{\\left(t w_{0} \\right)} + \\left(\\frac{2 v^{0}_{z}}{w_{0}} + \\frac{2 v_{0}^{2} ρ \\left|{C_{d} s^{d}_{0} s^{d}_{1}}\\right|}{m_{d} w_{0}^{2}}\\right) \\cos{\\left(t w_{0} \\right)} + \\frac{3 t^{2} v_{0}^{2} ρ \\left|{C_{d} s^{d}_{0} s^{d}_{1}}\\right|}{4 m_{d}} - \\frac{2 v_{0}^{2} ρ \\sin^{2}{\\left(t w_{0} \\right)} \\left|{C_{d} s^{d}_{0} s^{d}_{1}}\\right|}{m_{d} w_{0}^{2}} - \\frac{2 v_{0}^{2} ρ \\cos^{2}{\\left(t w_{0} \\right)} \\left|{C_{d} s^{d}_{0} s^{d}_{1}}\\right|}{m_{d} w_{0}^{2}}$"
      ],
      "text/plain": [
       "Eq(r_x(t), r^0_x - t*(6*r^0_z*w_0 + 3*v^0_x) - 2*v^0_z/w_0 + (6*r^0_z + 4*v^0_x/w_0)*sin(t*w_0) + (2*v^0_z/w_0 + 2*v_0**2*ρ*Abs(C_d*s^d_0*s^d_1)/(m_d*w_0**2))*cos(t*w_0) + 3*t**2*v_0**2*ρ*Abs(C_d*s^d_0*s^d_1)/(4*m_d) - 2*v_0**2*ρ*sin(t*w_0)**2*Abs(C_d*s^d_0*s^d_1)/(m_d*w_0**2) - 2*v_0**2*ρ*cos(t*w_0)**2*Abs(C_d*s^d_0*s^d_1)/(m_d*w_0**2))"
      ]
     },
     "metadata": {},
     "output_type": "display_data"
    },
    {
     "data": {
      "text/latex": [
       "$\\displaystyle r_{y}{\\left(t \\right)} = r^{0}_{y} \\cos{\\left(t w_{0} \\right)} + \\frac{v^{0}_{y} \\sin{\\left(t w_{0} \\right)}}{w_{0}}$"
      ],
      "text/plain": [
       "Eq(r_y(t), r^0_y*cos(t*w_0) + v^0_y*sin(t*w_0)/w_0)"
      ]
     },
     "metadata": {},
     "output_type": "display_data"
    },
    {
     "data": {
      "text/latex": [
       "$\\displaystyle r_{z}{\\left(t \\right)} = 4 r^{0}_{z} + \\frac{2 v^{0}_{x}}{w_{0}} - \\left(3 r^{0}_{z} + \\frac{2 v^{0}_{x}}{w_{0}}\\right) \\cos{\\left(t w_{0} \\right)} + \\left(\\frac{v^{0}_{z}}{w_{0}} + \\frac{v_{0}^{2} ρ \\left|{C_{d} s^{d}_{0} s^{d}_{1}}\\right|}{m_{d} w_{0}^{2}}\\right) \\sin{\\left(t w_{0} \\right)} - \\frac{t v_{0}^{2} ρ \\left|{C_{d} s^{d}_{0} s^{d}_{1}}\\right|}{m_{d} w_{0}}$"
      ],
      "text/plain": [
       "Eq(r_z(t), 4*r^0_z + 2*v^0_x/w_0 - (3*r^0_z + 2*v^0_x/w_0)*cos(t*w_0) + (v^0_z/w_0 + v_0**2*ρ*Abs(C_d*s^d_0*s^d_1)/(m_d*w_0**2))*sin(t*w_0) - t*v_0**2*ρ*Abs(C_d*s^d_0*s^d_1)/(m_d*w_0))"
      ]
     },
     "metadata": {},
     "output_type": "display_data"
    },
    {
     "data": {
      "text/latex": [
       "$\\displaystyle v_{x}{\\left(t \\right)} = - 6 r^{0}_{z} w_{0} - 3 v^{0}_{x} - \\left(2 v^{0}_{z} + \\frac{2 v_{0}^{2} ρ \\left|{C_{d} s^{d}_{0} s^{d}_{1}}\\right|}{m_{d} w_{0}}\\right) \\sin{\\left(t w_{0} \\right)} + \\left(6 r^{0}_{z} w_{0} + 4 v^{0}_{x}\\right) \\cos{\\left(t w_{0} \\right)} + \\frac{3 t v_{0}^{2} ρ \\left|{C_{d} s^{d}_{0} s^{d}_{1}}\\right|}{2 m_{d}}$"
      ],
      "text/plain": [
       "Eq(v_x(t), -6*r^0_z*w_0 - 3*v^0_x - (2*v^0_z + 2*v_0**2*ρ*Abs(C_d*s^d_0*s^d_1)/(m_d*w_0))*sin(t*w_0) + (6*r^0_z*w_0 + 4*v^0_x)*cos(t*w_0) + 3*t*v_0**2*ρ*Abs(C_d*s^d_0*s^d_1)/(2*m_d))"
      ]
     },
     "metadata": {},
     "output_type": "display_data"
    },
    {
     "data": {
      "text/latex": [
       "$\\displaystyle v_{y}{\\left(t \\right)} = - r^{0}_{y} w_{0} \\sin{\\left(t w_{0} \\right)} + v^{0}_{y} \\cos{\\left(t w_{0} \\right)}$"
      ],
      "text/plain": [
       "Eq(v_y(t), -r^0_y*w_0*sin(t*w_0) + v^0_y*cos(t*w_0))"
      ]
     },
     "metadata": {},
     "output_type": "display_data"
    },
    {
     "data": {
      "text/latex": [
       "$\\displaystyle v_{z}{\\left(t \\right)} = \\left(v^{0}_{z} + \\frac{v_{0}^{2} ρ \\left|{C_{d} s^{d}_{0} s^{d}_{1}}\\right|}{m_{d} w_{0}}\\right) \\cos{\\left(t w_{0} \\right)} + \\left(3 r^{0}_{z} w_{0} + 2 v^{0}_{x}\\right) \\sin{\\left(t w_{0} \\right)} - \\frac{v_{0}^{2} ρ \\sin^{2}{\\left(t w_{0} \\right)} \\left|{C_{d} s^{d}_{0} s^{d}_{1}}\\right|}{m_{d} w_{0}} - \\frac{v_{0}^{2} ρ \\cos^{2}{\\left(t w_{0} \\right)} \\left|{C_{d} s^{d}_{0} s^{d}_{1}}\\right|}{m_{d} w_{0}}$"
      ],
      "text/plain": [
       "Eq(v_z(t), (v^0_z + v_0**2*ρ*Abs(C_d*s^d_0*s^d_1)/(m_d*w_0))*cos(t*w_0) + (3*r^0_z*w_0 + 2*v^0_x)*sin(t*w_0) - v_0**2*ρ*sin(t*w_0)**2*Abs(C_d*s^d_0*s^d_1)/(m_d*w_0) - v_0**2*ρ*cos(t*w_0)**2*Abs(C_d*s^d_0*s^d_1)/(m_d*w_0))"
      ]
     },
     "metadata": {},
     "output_type": "display_data"
    }
   ],
   "source": [
    "ics={r[0](0): r0[0], r[1](0): r0[1], r[2](0): r0[2], \n",
    "     v[0](0): v0[0], v[1](0): v0[1], v[2](0): v0[2]}\n",
    "    \n",
    "anw2 = dsolve(eqs, [r[0](t), r[1](t), r[2](t), v[0](t), v[1](t), v[2](t)], ics=ics)\n",
    "for a in anw2:\n",
    "    display(a)"
   ]
  },
  {
   "cell_type": "code",
   "execution_count": 8,
   "id": "60324b0f",
   "metadata": {},
   "outputs": [
    {
     "data": {
      "text/latex": [
       "$\\displaystyle r_{x}{\\left(t \\right)} = r^{0}_{x} - t \\left(6 r^{0}_{z} w_{0} + 3 v^{0}_{x}\\right) + \\frac{2 v^{0}_{z} \\cos{\\left(t w_{0} \\right)}}{w_{0}} - \\frac{2 v^{0}_{z}}{w_{0}} + \\left(6 r^{0}_{z} + \\frac{4 v^{0}_{x}}{w_{0}}\\right) \\sin{\\left(t w_{0} \\right)}$"
      ],
      "text/plain": [
       "Eq(r_x(t), r^0_x - t*(6*r^0_z*w_0 + 3*v^0_x) + 2*v^0_z*cos(t*w_0)/w_0 - 2*v^0_z/w_0 + (6*r^0_z + 4*v^0_x/w_0)*sin(t*w_0))"
      ]
     },
     "metadata": {},
     "output_type": "display_data"
    },
    {
     "data": {
      "text/latex": [
       "$\\displaystyle r_{y}{\\left(t \\right)} = r^{0}_{y} \\cos{\\left(t w_{0} \\right)} + \\frac{v^{0}_{y} \\sin{\\left(t w_{0} \\right)}}{w_{0}}$"
      ],
      "text/plain": [
       "Eq(r_y(t), r^0_y*cos(t*w_0) + v^0_y*sin(t*w_0)/w_0)"
      ]
     },
     "metadata": {},
     "output_type": "display_data"
    },
    {
     "data": {
      "text/latex": [
       "$\\displaystyle r_{z}{\\left(t \\right)} = 4 r^{0}_{z} + \\frac{2 v^{0}_{x}}{w_{0}} + \\frac{v^{0}_{z} \\sin{\\left(t w_{0} \\right)}}{w_{0}} - \\left(3 r^{0}_{z} + \\frac{2 v^{0}_{x}}{w_{0}}\\right) \\cos{\\left(t w_{0} \\right)}$"
      ],
      "text/plain": [
       "Eq(r_z(t), 4*r^0_z + 2*v^0_x/w_0 + v^0_z*sin(t*w_0)/w_0 - (3*r^0_z + 2*v^0_x/w_0)*cos(t*w_0))"
      ]
     },
     "metadata": {},
     "output_type": "display_data"
    },
    {
     "data": {
      "text/latex": [
       "$\\displaystyle v_{x}{\\left(t \\right)} = - 6 r^{0}_{z} w_{0} - 3 v^{0}_{x} - 2 v^{0}_{z} \\sin{\\left(t w_{0} \\right)} + \\left(6 r^{0}_{z} w_{0} + 4 v^{0}_{x}\\right) \\cos{\\left(t w_{0} \\right)}$"
      ],
      "text/plain": [
       "Eq(v_x(t), -6*r^0_z*w_0 - 3*v^0_x - 2*v^0_z*sin(t*w_0) + (6*r^0_z*w_0 + 4*v^0_x)*cos(t*w_0))"
      ]
     },
     "metadata": {},
     "output_type": "display_data"
    },
    {
     "data": {
      "text/latex": [
       "$\\displaystyle v_{y}{\\left(t \\right)} = - r^{0}_{y} w_{0} \\sin{\\left(t w_{0} \\right)} + v^{0}_{y} \\cos{\\left(t w_{0} \\right)}$"
      ],
      "text/plain": [
       "Eq(v_y(t), -r^0_y*w_0*sin(t*w_0) + v^0_y*cos(t*w_0))"
      ]
     },
     "metadata": {},
     "output_type": "display_data"
    },
    {
     "data": {
      "text/latex": [
       "$\\displaystyle v_{z}{\\left(t \\right)} = v^{0}_{z} \\cos{\\left(t w_{0} \\right)} + \\left(3 r^{0}_{z} w_{0} + 2 v^{0}_{x}\\right) \\sin{\\left(t w_{0} \\right)}$"
      ],
      "text/plain": [
       "Eq(v_z(t), v^0_z*cos(t*w_0) + (3*r^0_z*w_0 + 2*v^0_x)*sin(t*w_0))"
      ]
     },
     "metadata": {},
     "output_type": "display_data"
    }
   ],
   "source": [
    "for a in anw1:\n",
    "    display(a)"
   ]
  },
  {
   "cell_type": "code",
   "execution_count": null,
   "id": "e6d6ec4e",
   "metadata": {},
   "outputs": [],
   "source": []
  },
  {
   "cell_type": "code",
   "execution_count": null,
   "id": "f8e8bd2b",
   "metadata": {},
   "outputs": [],
   "source": []
  },
  {
   "cell_type": "code",
   "execution_count": null,
   "id": "ee8e1350",
   "metadata": {},
   "outputs": [],
   "source": []
  },
  {
   "cell_type": "code",
   "execution_count": null,
   "id": "44796fdd",
   "metadata": {},
   "outputs": [],
   "source": [
    "A = Matrix([[anw[j].rhs.diff(r0[i]) for i in range(3)] for j in range(3)])\n",
    "B = Matrix([[anw[j].rhs.diff(v0[i]) for i in range(3)] for j in range(3)])\n",
    "C = Matrix([[anw[j+3].rhs.diff(r0[i]) for i in range(3)] for j in range(3)])\n",
    "D = Matrix([[anw[j+3].rhs.diff(v0[i]) for i in range(3)] for j in range(3)])\n",
    "\n",
    "kf.my_print(f\"Матрица А:\", bold=True)\n",
    "display(A)\n",
    "kf.my_print(f\"Матрица B:\", bold=True)\n",
    "display(B)\n",
    "kf.my_print(f\"Матрица C:\", bold=True)\n",
    "display(C)\n",
    "kf.my_print(f\"Матрица D:\", bold=True)\n",
    "display(D)\n",
    "\n",
    "def A(w, t):\n",
    "    return kf.vec_type([[1, 0, -6*w*t + 6*kf.sin(w*t)],\n",
    "                        [0, kf.cos(w*t), 0],\n",
    "                        [0, 0, 4 - 3*kf.cos(w*t)]])\n",
    "\n",
    "def B(w, t):\n",
    "    return kf.vec_type([[4*kf.sin(w*t) - 3*w*t, 0, 2*kf.cos(w*t) - 2],\n",
    "                        [0, kf.sin(w*t), 0],\n",
    "                        [0-2*kf.cos(w*t) + 2, 0, kf.sin(w*t)]]) / w\n",
    "\n",
    "def C(w, t):\n",
    "    return kf.vec_type([[0, 0, -6*w + 6*w*kf.cos(w*t)],\n",
    "                        [0, -w*kf.sin(w*t), 0],\n",
    "                        [0, 0, 3*w*kf.sin(w*t)]])\n",
    "\n",
    "def D(w, t):\n",
    "    return kf.vec_type([[4*kf.cos(w*t) - 3, 0, -2*kf.sin(w*t)],\n",
    "                        [0, kf.cos(w*t), 0],\n",
    "                        [2*kf.sin(w*t), 0, kf.cos(w*t)]])\n",
    "\n",
    "def get_phi(w, t, return_split: bool = False):\n",
    "    if return_split:\n",
    "        return A(w, t), B(w, t), C(w, t), D(w, t)\n",
    "    else:\n",
    "        return kf.bmat([[A(w, t), B(w, t)], [C(w, t), D(w, t)]])\n",
    "    \n",
    "kf.my_print(f\"Проверки на вшивость:\", bold=True)\n",
    "r1 = A(w,t) @ r0 + B(w,t) @ v0 \n",
    "v1 = C(w,t) @ r0 + D(w,t) @ v0 \n",
    "for j, rv in enumerate([r1, v1]):\n",
    "    tmp = rv - Matrix([anw[i + j*3].rhs for i in range(3)])\n",
    "    tmp.simplify()\n",
    "    display(tmp.T)"
   ]
  },
  {
   "cell_type": "markdown",
   "id": "1f046c87",
   "metadata": {},
   "source": [
    "**Работающие НУ** (DScode)"
   ]
  },
  {
   "cell_type": "code",
   "execution_count": 7,
   "id": "ecaf6dc8",
   "metadata": {},
   "outputs": [
    {
     "name": "stdout",
     "output_type": "stream",
     "text": [
      "v: [-0.18857002 -0.0740149   0.06690491]\n",
      "\u001b[0m\u001b[1mSpecific initial position:\u001b[0m\u001b[0m\n"
     ]
    },
    {
     "data": {
      "text/latex": [
       "$\\displaystyle \\left[\\begin{matrix}210\\\\0\\\\0\\end{matrix}\\right]$"
      ],
      "text/plain": [
       "Matrix([\n",
       "[210],\n",
       "[  0],\n",
       "[  0]])"
      ]
     },
     "metadata": {},
     "output_type": "display_data"
    },
    {
     "name": "stdout",
     "output_type": "stream",
     "text": [
      "\u001b[0m\u001b[1mSpecific initial velocity:\u001b[0m\u001b[0m\n"
     ]
    },
    {
     "data": {
      "text/latex": [
       "$\\displaystyle \\left[\\begin{matrix}0\\\\0.0110847443354465\\\\0.110847443354465\\end{matrix}\\right]$"
      ],
      "text/plain": [
       "Matrix([\n",
       "[                 0],\n",
       "[0.0110847443354465],\n",
       "[ 0.110847443354465]])"
      ]
     },
     "metadata": {},
     "output_type": "display_data"
    }
   ],
   "source": [
    "C = [0, 100, 0, 10, 10, 0]\n",
    "r0 = Matrix([-3*C[0]*w_0*t+2*C[1]*cos(w_0*t)-2*C[2]*sin(w_0*t)+C[3],\n",
    "             C[4]*sin(w_0*t)+C[5]*cos(w_0*t),\n",
    "             2*C[0]+C[1]*sin(w_0*t)+C[2]*cos(w_0*t)])\n",
    "\n",
    "v0 = Matrix([-3*C[0]*w_0-2*C[1]*w_0*sin(w_0*t)-2*C[2]*w_0*cos(w_0*t),\n",
    "             C[4]*w_0*cos(w_0*t)-C[5]*w_0*sin(w_0*t),\n",
    "             C[1]*w_0*cos(w_0*t)-C[2]*w_0*sin(w_0*t)])\n",
    "\n",
    "o = kf.init()\n",
    "kf.my_print(f\"Specific initial position:\", bold=True)\n",
    "display(r0.subs(t, 0).subs(w_0, o.v.W_ORB))\n",
    "kf.my_print(f\"Specific initial velocity:\", bold=True)\n",
    "display(v0.subs(t, 0).subs(w_0, o.v.W_ORB))"
   ]
  },
  {
   "cell_type": "markdown",
   "id": "62c3ea8c",
   "metadata": {
    "jp-MarkdownHeadingCollapsed": true
   },
   "source": [
    "##### <u>Свистни</u> когда доделаешь"
   ]
  },
  {
   "cell_type": "code",
   "execution_count": 3,
   "id": "766f1214",
   "metadata": {},
   "outputs": [
    {
     "name": "stdout",
     "output_type": "stream",
     "text": [
      "\u001b[36mМудрецу, который спрятал свое лучшее изречение, следует отсечь руки: ибо он – вор, и украл чужую мудрость\u001b[0m\n"
     ]
    }
   ],
   "source": [
    "kf.talk()"
   ]
  }
 ],
 "metadata": {
  "kernelspec": {
   "display_name": "Python 3 (ipykernel)",
   "language": "python",
   "name": "python3"
  },
  "language_info": {
   "codemirror_mode": {
    "name": "ipython",
    "version": 3
   },
   "file_extension": ".py",
   "mimetype": "text/x-python",
   "name": "python",
   "nbconvert_exporter": "python",
   "pygments_lexer": "ipython3",
   "version": "3.10.12"
  }
 },
 "nbformat": 4,
 "nbformat_minor": 5
}
